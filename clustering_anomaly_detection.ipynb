{
 "cells": [
  {
   "cell_type": "markdown",
   "id": "78d374ef-1ede-46fe-a575-60f49ad0227d",
   "metadata": {},
   "source": [
    "#### Not part of the exercises\n",
    "\n",
    "### Experiment with the DBSCAN properties\n",
    "\n",
    "* Read up on the epsilon and min_samples arguments into DBSCAN at https://scikit-learn.org/stable/modules/generated/sklearn.cluster.DBSCAN.html\n",
    "* Experiment with altering the epsilon values (the eps argument holding the threshhold parameter). Run the models and visualize the results. What has changed? Why do you think that is?\n",
    "* Double the min_samples parameter. Run your model and visualize the results. Consider what changed and why."
   ]
  },
  {
   "cell_type": "code",
   "execution_count": 1,
   "id": "9de8c7a0-d2f6-4f6a-88ff-a0398619fb73",
   "metadata": {},
   "outputs": [],
   "source": [
    "from __future__ import division\n",
    "import itertools\n",
    "import warnings\n",
    "warnings.filterwarnings(\"ignore\")\n",
    "import matplotlib.pyplot as plt\n",
    "import matplotlib.dates as mdates\n",
    "import numpy as np\n",
    "import pandas as pd\n",
    "import math\n",
    "from sklearn import metrics\n",
    "from random import randint\n",
    "from matplotlib import style\n",
    "import seaborn as sns\n",
    "%matplotlib inline\n",
    "import env"
   ]
  },
  {
   "cell_type": "markdown",
   "id": "4c7b442d-2d32-4ed9-ad25-397420f615b7",
   "metadata": {},
   "source": [
    "## Clustering - DBSCAN\n",
    "\n",
    "1. Use DBSCAN to detect anomalies in other products from the customers dataset. The database name is grocery_db.\n",
    "2. Use DBSCAN to detect anomalies in requests from the curriculum access logs in the curriculum_logs database.\n",
    "3. Use DBSCAN to detect anomalies in number of bedrooms and finished square feet of property for the filtered dataset you used in the clustering project (single unit properties with a logerror).\n",
    "\n",
    "***\n",
    "\n",
    "1. While using Codeup's grocery_db in their MySQL server, use DBSCAN to detect anomalies in products from the customers dataset."
   ]
  },
  {
   "cell_type": "code",
   "execution_count": null,
   "id": "efca24d6-30d2-418f-bdea-7ead3577dccf",
   "metadata": {},
   "outputs": [],
   "source": []
  }
 ],
 "metadata": {
  "kernelspec": {
   "display_name": "Python 3 (ipykernel)",
   "language": "python",
   "name": "python3"
  },
  "language_info": {
   "codemirror_mode": {
    "name": "ipython",
    "version": 3
   },
   "file_extension": ".py",
   "mimetype": "text/x-python",
   "name": "python",
   "nbconvert_exporter": "python",
   "pygments_lexer": "ipython3",
   "version": "3.9.7"
  }
 },
 "nbformat": 4,
 "nbformat_minor": 5
}
