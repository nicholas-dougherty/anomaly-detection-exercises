{
 "cells": [
  {
   "cell_type": "markdown",
   "id": "57ff24c0-d69f-481e-9b65-e117bd9d7a80",
   "metadata": {},
   "source": [
    "# Probabilistic Methods (Discrete)\n",
    "\n",
    "#### Anomaly Detection: Identification of items, events or observations which is significantly different from the remaining data.\n",
    "\n",
    "* Non-parametric approach\n",
    "* Frequency or counting based\n",
    "    - How many time a value of variable (e.g. ip address) shows up\n",
    "    - More frequent - less likely to be an anomaly\n",
    "    - less frequent - more likely to be an anomaly\n",
    "    - Calculate probability\n",
    "* Conditional probability\n",
    "\n",
    "                                        Examples:\n",
    "\n",
    "How many times we see an ip address in the dataset (count)\n",
    "What is probability of ip address showing up in the dataset (ip count / total observations)\n",
    "Conditional probability. Given an ip address, what is prob of a particular status(e.g authentication failure)"
   ]
  },
  {
   "cell_type": "code",
   "execution_count": 1,
   "id": "9453ac9b",
   "metadata": {},
   "outputs": [],
   "source": [
    "from __future__ import division\n",
    "import itertools\n",
    "import warnings\n",
    "warnings.filterwarnings(\"ignore\")\n",
    "import matplotlib.pyplot as plt\n",
    "import matplotlib.dates as mdates\n",
    "import numpy as np\n",
    "import pandas as pd\n",
    "import math\n",
    "from sklearn import metrics\n",
    "from random import randint\n",
    "from matplotlib import style\n",
    "import seaborn as sns\n",
    "%matplotlib inline\n",
    "import env"
   ]
  },
  {
   "cell_type": "markdown",
   "id": "a548c8c1",
   "metadata": {},
   "source": [
    "Use basic probability to identify anomalous requests. Using the methods covered in [this lesson](https://ds.codeup.com/anomaly-detection/discrete-probabilistic-methods/), examine the rest of the features in the api access logs data set.\n",
    "\n",
    "Key points from the lesson\n",
    "* When you have a variable that is not too noisy, you can have a baseline probability, then as new datapoints come in you can identify and compare the actual rate with the expected rate (probability).\n",
    "\n",
    "- To detect anomalies in discrete variables we can look at two ways of summarizing the variable:\n",
    "\n",
    "    - count: the number of times each unique value appears in the dataset\n",
    "    - frequencies: the number of times each unique value appears in the dataset as a percentage of the total; the count divided by the total number of observations\n",
    "        - Both of the above can be found with the .value_counts method.\n",
    "        \n",
    "I'll start by duplicating and procedurally re-iterating much of what was done in the lesson/textbook. "
   ]
  },
  {
   "cell_type": "code",
   "execution_count": 2,
   "id": "b30795b0",
   "metadata": {},
   "outputs": [
    {
     "data": {
      "text/html": [
       "<div><div id=441ca3ac-b700-4ae9-bd62-7865aaa04c0f style=\"display:none; background-color:#9D6CFF; color:white; width:200px; height:30px; padding-left:5px; border-radius:4px; flex-direction:row; justify-content:space-around; align-items:center;\" onmouseover=\"this.style.backgroundColor='#BA9BF8'\" onmouseout=\"this.style.backgroundColor='#9D6CFF'\" onclick=\"window.commands?.execute('create-mitosheet-from-dataframe-output');\">See Full Dataframe in Mito</div> <script> if (window.commands.hasCommand('create-mitosheet-from-dataframe-output')) document.getElementById('441ca3ac-b700-4ae9-bd62-7865aaa04c0f').style.display = 'flex' </script> <table border=\"1\" class=\"dataframe\">\n",
       "  <thead>\n",
       "    <tr style=\"text-align: right;\">\n",
       "      <th></th>\n",
       "      <th>ip</th>\n",
       "      <th>timestamp</th>\n",
       "      <th>request_method</th>\n",
       "      <th>request_path</th>\n",
       "      <th>http_version</th>\n",
       "      <th>status_code</th>\n",
       "      <th>size</th>\n",
       "      <th>user_agent</th>\n",
       "    </tr>\n",
       "  </thead>\n",
       "  <tbody>\n",
       "    <tr>\n",
       "      <th>0</th>\n",
       "      <td>97.105.19.58</td>\n",
       "      <td>16/Apr/2019 19:34:42</td>\n",
       "      <td>GET</td>\n",
       "      <td>/api/v1/sales?page=81</td>\n",
       "      <td>HTTP/1.1</td>\n",
       "      <td>200</td>\n",
       "      <td>512495</td>\n",
       "      <td>python-requests/2.21.0</td>\n",
       "    </tr>\n",
       "    <tr>\n",
       "      <th>1</th>\n",
       "      <td>97.105.19.58</td>\n",
       "      <td>16/Apr/2019 19:34:42</td>\n",
       "      <td>GET</td>\n",
       "      <td>/api/v1/items</td>\n",
       "      <td>HTTP/1.1</td>\n",
       "      <td>200</td>\n",
       "      <td>3561</td>\n",
       "      <td>python-requests/2.21.0</td>\n",
       "    </tr>\n",
       "    <tr>\n",
       "      <th>2</th>\n",
       "      <td>97.105.19.58</td>\n",
       "      <td>16/Apr/2019 19:34:44</td>\n",
       "      <td>GET</td>\n",
       "      <td>/api/v1/sales?page=82</td>\n",
       "      <td>HTTP/1.1</td>\n",
       "      <td>200</td>\n",
       "      <td>510103</td>\n",
       "      <td>python-requests/2.21.0</td>\n",
       "    </tr>\n",
       "    <tr>\n",
       "      <th>3</th>\n",
       "      <td>97.105.19.58</td>\n",
       "      <td>16/Apr/2019 19:34:46</td>\n",
       "      <td>GET</td>\n",
       "      <td>/api/v1/sales?page=83</td>\n",
       "      <td>HTTP/1.1</td>\n",
       "      <td>200</td>\n",
       "      <td>510003</td>\n",
       "      <td>python-requests/2.21.0</td>\n",
       "    </tr>\n",
       "    <tr>\n",
       "      <th>4</th>\n",
       "      <td>97.105.19.58</td>\n",
       "      <td>16/Apr/2019 19:34:48</td>\n",
       "      <td>GET</td>\n",
       "      <td>/api/v1/sales?page=84</td>\n",
       "      <td>HTTP/1.1</td>\n",
       "      <td>200</td>\n",
       "      <td>511963</td>\n",
       "      <td>python-requests/2.21.0</td>\n",
       "    </tr>\n",
       "  </tbody>\n",
       "</table></div>"
      ],
      "text/plain": [
       "             ip             timestamp request_method           request_path  \\\n",
       "0  97.105.19.58  16/Apr/2019 19:34:42            GET  /api/v1/sales?page=81   \n",
       "1  97.105.19.58  16/Apr/2019 19:34:42            GET          /api/v1/items   \n",
       "2  97.105.19.58  16/Apr/2019 19:34:44            GET  /api/v1/sales?page=82   \n",
       "3  97.105.19.58  16/Apr/2019 19:34:46            GET  /api/v1/sales?page=83   \n",
       "4  97.105.19.58  16/Apr/2019 19:34:48            GET  /api/v1/sales?page=84   \n",
       "\n",
       "  http_version status_code    size              user_agent  \n",
       "0     HTTP/1.1         200  512495  python-requests/2.21.0  \n",
       "1     HTTP/1.1         200    3561  python-requests/2.21.0  \n",
       "2     HTTP/1.1         200  510103  python-requests/2.21.0  \n",
       "3     HTTP/1.1         200  510003  python-requests/2.21.0  \n",
       "4     HTTP/1.1         200  511963  python-requests/2.21.0  "
      ]
     },
     "execution_count": 2,
     "metadata": {},
     "output_type": "execute_result"
    }
   ],
   "source": [
    "# function to deal with parsing one entry in our log data\n",
    "def parse_log_entry(entry):\n",
    "    parts = entry.split()\n",
    "    output = {}\n",
    "    output['ip'] = parts[0]\n",
    "    output['timestamp'] = parts[3][1:].replace(':', ' ', 1)\n",
    "    output['request_method'] = parts[5][1:]\n",
    "    output['request_path'] = parts[6]\n",
    "    output['http_version'] = parts[7][:-1]\n",
    "    output['status_code'] = parts[8]\n",
    "    output['size'] = int(parts[9])\n",
    "    output['user_agent'] = ' '.join(parts[11:]).replace('\"', '')\n",
    "    return pd.Series(output)\n",
    "\n",
    "url = f'mysql+pymysql://{env.username}:{env.password}@{env.host}/logs'\n",
    "df = pd.read_sql('SELECT * FROM api_access', url)\n",
    "# df = pd.concat([df.entry, df.entry.apply(parse_log_entry)], axis=1)\n",
    "df = df.entry.apply(parse_log_entry)\n",
    "df.head()"
   ]
  },
  {
   "cell_type": "code",
   "execution_count": 3,
   "id": "48419990",
   "metadata": {},
   "outputs": [],
   "source": [
    "# synthetic records, appended to the existing data frame\n",
    "new = pd.DataFrame([\n",
    "    [\"95.31.18.119\", \"21/Apr/2019 10:02:41\", \"GET\", \"/api/v1/items/\", \"HTTP/1.1\", '200', 1153005, \"python-requests/2.21.0\"],\n",
    "    [\"95.31.16.121\", \"17/Apr/2019 19:36:41\", \"GET\", \"/api/v1/sales?page=79/\", \"HTTP/1.1\", '301', 1005, \"python-requests/2.21.0\"],\n",
    "    [\"97.105.15.120\", \"18/Apr/2019 19:42:41\", \"GET\", \"/api/v1/sales?page=79/\", \"HTTP/1.1\", '301', 2560, \"python-requests/2.21.0\"],\n",
    "    [\"97.105.19.58\", \"19/Apr/2019 19:42:41\", \"GET\", \"/api/v1/sales?page=79/\", \"HTTP/1.1\", '200', 2056327, \"python-requests/2.21.0\"],\n",
    "], columns=df.columns)\n",
    "\n",
    "df = df.append(new)\n"
   ]
  },
  {
   "cell_type": "code",
   "execution_count": 4,
   "id": "0df6eef4",
   "metadata": {},
   "outputs": [],
   "source": [
    "df['size_mb'] = df['size'] / 1024 / 1024\n",
    "df.timestamp = pd.to_datetime(df.timestamp)\n",
    "df = df.set_index('timestamp')"
   ]
  },
  {
   "cell_type": "code",
   "execution_count": 5,
   "id": "fd343b87",
   "metadata": {},
   "outputs": [
    {
     "data": {
      "text/html": [
       "<div><div id=7be62791-bb3c-4e14-929f-0668ca5337f7 style=\"display:none; background-color:#9D6CFF; color:white; width:200px; height:30px; padding-left:5px; border-radius:4px; flex-direction:row; justify-content:space-around; align-items:center;\" onmouseover=\"this.style.backgroundColor='#BA9BF8'\" onmouseout=\"this.style.backgroundColor='#9D6CFF'\" onclick=\"window.commands?.execute('create-mitosheet-from-dataframe-output');\">See Full Dataframe in Mito</div> <script> if (window.commands.hasCommand('create-mitosheet-from-dataframe-output')) document.getElementById('7be62791-bb3c-4e14-929f-0668ca5337f7').style.display = 'flex' </script> <table border=\"1\" class=\"dataframe\">\n",
       "  <thead>\n",
       "    <tr style=\"text-align: right;\">\n",
       "      <th></th>\n",
       "      <th>ip</th>\n",
       "      <th>request_method</th>\n",
       "      <th>request_path</th>\n",
       "      <th>http_version</th>\n",
       "      <th>status_code</th>\n",
       "      <th>size</th>\n",
       "      <th>user_agent</th>\n",
       "      <th>size_mb</th>\n",
       "    </tr>\n",
       "    <tr>\n",
       "      <th>timestamp</th>\n",
       "      <th></th>\n",
       "      <th></th>\n",
       "      <th></th>\n",
       "      <th></th>\n",
       "      <th></th>\n",
       "      <th></th>\n",
       "      <th></th>\n",
       "      <th></th>\n",
       "    </tr>\n",
       "  </thead>\n",
       "  <tbody>\n",
       "    <tr>\n",
       "      <th>2019-04-16 19:34:42</th>\n",
       "      <td>97.105.19.58</td>\n",
       "      <td>GET</td>\n",
       "      <td>/api/v1/sales?page=81</td>\n",
       "      <td>HTTP/1.1</td>\n",
       "      <td>200</td>\n",
       "      <td>512495</td>\n",
       "      <td>python-requests/2.21.0</td>\n",
       "      <td>0.488753</td>\n",
       "    </tr>\n",
       "    <tr>\n",
       "      <th>2019-04-16 19:34:42</th>\n",
       "      <td>97.105.19.58</td>\n",
       "      <td>GET</td>\n",
       "      <td>/api/v1/items</td>\n",
       "      <td>HTTP/1.1</td>\n",
       "      <td>200</td>\n",
       "      <td>3561</td>\n",
       "      <td>python-requests/2.21.0</td>\n",
       "      <td>0.003396</td>\n",
       "    </tr>\n",
       "    <tr>\n",
       "      <th>2019-04-16 19:34:44</th>\n",
       "      <td>97.105.19.58</td>\n",
       "      <td>GET</td>\n",
       "      <td>/api/v1/sales?page=82</td>\n",
       "      <td>HTTP/1.1</td>\n",
       "      <td>200</td>\n",
       "      <td>510103</td>\n",
       "      <td>python-requests/2.21.0</td>\n",
       "      <td>0.486472</td>\n",
       "    </tr>\n",
       "    <tr>\n",
       "      <th>2019-04-16 19:34:46</th>\n",
       "      <td>97.105.19.58</td>\n",
       "      <td>GET</td>\n",
       "      <td>/api/v1/sales?page=83</td>\n",
       "      <td>HTTP/1.1</td>\n",
       "      <td>200</td>\n",
       "      <td>510003</td>\n",
       "      <td>python-requests/2.21.0</td>\n",
       "      <td>0.486377</td>\n",
       "    </tr>\n",
       "    <tr>\n",
       "      <th>2019-04-16 19:34:48</th>\n",
       "      <td>97.105.19.58</td>\n",
       "      <td>GET</td>\n",
       "      <td>/api/v1/sales?page=84</td>\n",
       "      <td>HTTP/1.1</td>\n",
       "      <td>200</td>\n",
       "      <td>511963</td>\n",
       "      <td>python-requests/2.21.0</td>\n",
       "      <td>0.488246</td>\n",
       "    </tr>\n",
       "    <tr>\n",
       "      <th>...</th>\n",
       "      <td>...</td>\n",
       "      <td>...</td>\n",
       "      <td>...</td>\n",
       "      <td>...</td>\n",
       "      <td>...</td>\n",
       "      <td>...</td>\n",
       "      <td>...</td>\n",
       "      <td>...</td>\n",
       "    </tr>\n",
       "    <tr>\n",
       "      <th>2019-04-17 12:55:14</th>\n",
       "      <td>97.105.19.58</td>\n",
       "      <td>GET</td>\n",
       "      <td>/api/v1/sales?page=71</td>\n",
       "      <td>HTTP/1.1</td>\n",
       "      <td>200</td>\n",
       "      <td>510166</td>\n",
       "      <td>python-requests/2.21.0</td>\n",
       "      <td>0.486532</td>\n",
       "    </tr>\n",
       "    <tr>\n",
       "      <th>2019-04-21 10:02:41</th>\n",
       "      <td>95.31.18.119</td>\n",
       "      <td>GET</td>\n",
       "      <td>/api/v1/items/</td>\n",
       "      <td>HTTP/1.1</td>\n",
       "      <td>200</td>\n",
       "      <td>1153005</td>\n",
       "      <td>python-requests/2.21.0</td>\n",
       "      <td>1.099591</td>\n",
       "    </tr>\n",
       "    <tr>\n",
       "      <th>2019-04-17 19:36:41</th>\n",
       "      <td>95.31.16.121</td>\n",
       "      <td>GET</td>\n",
       "      <td>/api/v1/sales?page=79/</td>\n",
       "      <td>HTTP/1.1</td>\n",
       "      <td>301</td>\n",
       "      <td>1005</td>\n",
       "      <td>python-requests/2.21.0</td>\n",
       "      <td>0.000958</td>\n",
       "    </tr>\n",
       "    <tr>\n",
       "      <th>2019-04-18 19:42:41</th>\n",
       "      <td>97.105.15.120</td>\n",
       "      <td>GET</td>\n",
       "      <td>/api/v1/sales?page=79/</td>\n",
       "      <td>HTTP/1.1</td>\n",
       "      <td>301</td>\n",
       "      <td>2560</td>\n",
       "      <td>python-requests/2.21.0</td>\n",
       "      <td>0.002441</td>\n",
       "    </tr>\n",
       "    <tr>\n",
       "      <th>2019-04-19 19:42:41</th>\n",
       "      <td>97.105.19.58</td>\n",
       "      <td>GET</td>\n",
       "      <td>/api/v1/sales?page=79/</td>\n",
       "      <td>HTTP/1.1</td>\n",
       "      <td>200</td>\n",
       "      <td>2056327</td>\n",
       "      <td>python-requests/2.21.0</td>\n",
       "      <td>1.961066</td>\n",
       "    </tr>\n",
       "  </tbody>\n",
       "</table></div>"
      ],
      "text/plain": [
       "                                ip request_method            request_path  \\\n",
       "timestamp                                                                   \n",
       "2019-04-16 19:34:42   97.105.19.58            GET   /api/v1/sales?page=81   \n",
       "2019-04-16 19:34:42   97.105.19.58            GET           /api/v1/items   \n",
       "2019-04-16 19:34:44   97.105.19.58            GET   /api/v1/sales?page=82   \n",
       "2019-04-16 19:34:46   97.105.19.58            GET   /api/v1/sales?page=83   \n",
       "2019-04-16 19:34:48   97.105.19.58            GET   /api/v1/sales?page=84   \n",
       "...                            ...            ...                     ...   \n",
       "2019-04-17 12:55:14   97.105.19.58            GET   /api/v1/sales?page=71   \n",
       "2019-04-21 10:02:41   95.31.18.119            GET          /api/v1/items/   \n",
       "2019-04-17 19:36:41   95.31.16.121            GET  /api/v1/sales?page=79/   \n",
       "2019-04-18 19:42:41  97.105.15.120            GET  /api/v1/sales?page=79/   \n",
       "2019-04-19 19:42:41   97.105.19.58            GET  /api/v1/sales?page=79/   \n",
       "\n",
       "                    http_version status_code     size              user_agent  \\\n",
       "timestamp                                                                       \n",
       "2019-04-16 19:34:42     HTTP/1.1         200   512495  python-requests/2.21.0   \n",
       "2019-04-16 19:34:42     HTTP/1.1         200     3561  python-requests/2.21.0   \n",
       "2019-04-16 19:34:44     HTTP/1.1         200   510103  python-requests/2.21.0   \n",
       "2019-04-16 19:34:46     HTTP/1.1         200   510003  python-requests/2.21.0   \n",
       "2019-04-16 19:34:48     HTTP/1.1         200   511963  python-requests/2.21.0   \n",
       "...                          ...         ...      ...                     ...   \n",
       "2019-04-17 12:55:14     HTTP/1.1         200   510166  python-requests/2.21.0   \n",
       "2019-04-21 10:02:41     HTTP/1.1         200  1153005  python-requests/2.21.0   \n",
       "2019-04-17 19:36:41     HTTP/1.1         301     1005  python-requests/2.21.0   \n",
       "2019-04-18 19:42:41     HTTP/1.1         301     2560  python-requests/2.21.0   \n",
       "2019-04-19 19:42:41     HTTP/1.1         200  2056327  python-requests/2.21.0   \n",
       "\n",
       "                      size_mb  \n",
       "timestamp                      \n",
       "2019-04-16 19:34:42  0.488753  \n",
       "2019-04-16 19:34:42  0.003396  \n",
       "2019-04-16 19:34:44  0.486472  \n",
       "2019-04-16 19:34:46  0.486377  \n",
       "2019-04-16 19:34:48  0.488246  \n",
       "...                       ...  \n",
       "2019-04-17 12:55:14  0.486532  \n",
       "2019-04-21 10:02:41  1.099591  \n",
       "2019-04-17 19:36:41  0.000958  \n",
       "2019-04-18 19:42:41  0.002441  \n",
       "2019-04-19 19:42:41  1.961066  \n",
       "\n",
       "[13978 rows x 8 columns]"
      ]
     },
     "execution_count": 5,
     "metadata": {},
     "output_type": "execute_result"
    }
   ],
   "source": [
    "df"
   ]
  },
  {
   "cell_type": "code",
   "execution_count": 8,
   "id": "2e97fa37",
   "metadata": {},
   "outputs": [
    {
     "data": {
      "text/plain": [
       "97.105.19.58      11999\n",
       "173.173.113.51     1059\n",
       "72.181.113.170      613\n",
       "72.181.105.81       246\n",
       "68.201.219.223       21\n",
       "24.26.242.9          21\n",
       "35.175.171.137        2\n",
       "Name: ip, dtype: int64"
      ]
     },
     "execution_count": 8,
     "metadata": {},
     "output_type": "execute_result"
    }
   ],
   "source": [
    "# Check counts of ip addresses\n",
    "df.ip.value_counts().head(7)"
   ]
  },
  {
   "cell_type": "code",
   "execution_count": 9,
   "id": "3217bc86",
   "metadata": {},
   "outputs": [
    {
     "data": {
      "text/plain": [
       "97.105.19.58      0.858420\n",
       "173.173.113.51    0.075762\n",
       "72.181.113.170    0.043855\n",
       "72.181.105.81     0.017599\n",
       "68.201.219.223    0.001502\n",
       "24.26.242.9       0.001502\n",
       "35.175.171.137    0.000143\n",
       "Name: ip, dtype: float64"
      ]
     },
     "execution_count": 9,
     "metadata": {},
     "output_type": "execute_result"
    }
   ],
   "source": [
    "# check frequencies of ip addresses \n",
    "df.ip.value_counts(normalize=True).head(7)"
   ]
  },
  {
   "cell_type": "code",
   "execution_count": 7,
   "id": "d051fd9c",
   "metadata": {},
   "outputs": [],
   "source": [
    "# A UDF that combines both approaches and informational elements \n",
    "def value_counts_and_frequencies(s: pd.Series, dropna=True) -> pd.DataFrame:\n",
    "    return pd.merge(\n",
    "        s.value_counts(dropna=False).rename('count'),\n",
    "        s.value_counts(dropna=False, normalize=True).rename('proba'),\n",
    "        left_index=True,\n",
    "        right_index=True,\n",
    "    )"
   ]
  },
  {
   "cell_type": "code",
   "execution_count": 11,
   "id": "a22a0169",
   "metadata": {},
   "outputs": [
    {
     "data": {
      "text/html": [
       "<div><div id=e8ee0fe8-7f7c-4f05-a3b5-4a5a6c248986 style=\"display:none; background-color:#9D6CFF; color:white; width:200px; height:30px; padding-left:5px; border-radius:4px; flex-direction:row; justify-content:space-around; align-items:center;\" onmouseover=\"this.style.backgroundColor='#BA9BF8'\" onmouseout=\"this.style.backgroundColor='#9D6CFF'\" onclick=\"window.commands?.execute('create-mitosheet-from-dataframe-output');\">See Full Dataframe in Mito</div> <script> if (window.commands.hasCommand('create-mitosheet-from-dataframe-output')) document.getElementById('e8ee0fe8-7f7c-4f05-a3b5-4a5a6c248986').style.display = 'flex' </script> <table border=\"1\" class=\"dataframe\">\n",
       "  <thead>\n",
       "    <tr style=\"text-align: right;\">\n",
       "      <th></th>\n",
       "      <th>count</th>\n",
       "      <th>proba</th>\n",
       "    </tr>\n",
       "  </thead>\n",
       "  <tbody>\n",
       "    <tr>\n",
       "      <th>97.105.19.58</th>\n",
       "      <td>11999</td>\n",
       "      <td>0.858420</td>\n",
       "    </tr>\n",
       "    <tr>\n",
       "      <th>173.173.113.51</th>\n",
       "      <td>1059</td>\n",
       "      <td>0.075762</td>\n",
       "    </tr>\n",
       "    <tr>\n",
       "      <th>72.181.113.170</th>\n",
       "      <td>613</td>\n",
       "      <td>0.043855</td>\n",
       "    </tr>\n",
       "    <tr>\n",
       "      <th>72.181.105.81</th>\n",
       "      <td>246</td>\n",
       "      <td>0.017599</td>\n",
       "    </tr>\n",
       "    <tr>\n",
       "      <th>68.201.219.223</th>\n",
       "      <td>21</td>\n",
       "      <td>0.001502</td>\n",
       "    </tr>\n",
       "    <tr>\n",
       "      <th>24.26.242.9</th>\n",
       "      <td>21</td>\n",
       "      <td>0.001502</td>\n",
       "    </tr>\n",
       "    <tr>\n",
       "      <th>35.175.171.137</th>\n",
       "      <td>2</td>\n",
       "      <td>0.000143</td>\n",
       "    </tr>\n",
       "  </tbody>\n",
       "</table></div>"
      ],
      "text/plain": [
       "                count     proba\n",
       "97.105.19.58    11999  0.858420\n",
       "173.173.113.51   1059  0.075762\n",
       "72.181.113.170    613  0.043855\n",
       "72.181.105.81     246  0.017599\n",
       "68.201.219.223     21  0.001502\n",
       "24.26.242.9        21  0.001502\n",
       "35.175.171.137      2  0.000143"
      ]
     },
     "execution_count": 11,
     "metadata": {},
     "output_type": "execute_result"
    }
   ],
   "source": [
    "ip_df = value_counts_and_frequencies(df.ip)\n",
    "ip_df.head(7)"
   ]
  },
  {
   "cell_type": "code",
   "execution_count": 12,
   "id": "0f793410",
   "metadata": {},
   "outputs": [
    {
     "data": {
      "text/plain": [
       "<AxesSubplot:>"
      ]
     },
     "execution_count": 12,
     "metadata": {},
     "output_type": "execute_result"
    },
    {
     "data": {
      "image/png": "[encoded data removed]",
      "text/plain": [
       "<Figure size 360x648 with 1 Axes>"
      ]
     },
     "metadata": {
      "needs_background": "light"
     },
     "output_type": "display_data"
    }
   ],
   "source": [
    "# from here discern how many unique ip addresses there are:\n",
    "ip_df['count'].sort_values().tail(5).plot.barh(figsize=(5, 9))\n",
    "# We shall see here that the vast majority of the requests come from a single ip address."
   ]
  },
  {
   "cell_type": "markdown",
   "id": "57f2be4e",
   "metadata": {},
   "source": [
    "#### Conditional Probabilities: Probabilities using 2 discrete variables\n",
    "When looking for an unexpected status, such as authentication failure, from a known/common IP address:"
   ]
  },
  {
   "cell_type": "code",
   "execution_count": 13,
   "id": "8b879dd8",
   "metadata": {},
   "outputs": [
    {
     "data": {
      "text/html": [
       "<div><div id=ad5fc65d-33fe-446e-a781-9a2f80b216c3 style=\"display:none; background-color:#9D6CFF; color:white; width:200px; height:30px; padding-left:5px; border-radius:4px; flex-direction:row; justify-content:space-around; align-items:center;\" onmouseover=\"this.style.backgroundColor='#BA9BF8'\" onmouseout=\"this.style.backgroundColor='#9D6CFF'\" onclick=\"window.commands?.execute('create-mitosheet-from-dataframe-output');\">See Full Dataframe in Mito</div> <script> if (window.commands.hasCommand('create-mitosheet-from-dataframe-output')) document.getElementById('ad5fc65d-33fe-446e-a781-9a2f80b216c3').style.display = 'flex' </script> <table border=\"1\" class=\"dataframe\">\n",
       "  <thead>\n",
       "    <tr style=\"text-align: right;\">\n",
       "      <th></th>\n",
       "      <th>ip</th>\n",
       "      <th>status_code</th>\n",
       "      <th>proba_status_given_ip</th>\n",
       "    </tr>\n",
       "  </thead>\n",
       "  <tbody>\n",
       "    <tr>\n",
       "      <th>0</th>\n",
       "      <td>173.173.113.51</td>\n",
       "      <td>200</td>\n",
       "      <td>1.0</td>\n",
       "    </tr>\n",
       "    <tr>\n",
       "      <th>1</th>\n",
       "      <td>24.26.242.9</td>\n",
       "      <td>200</td>\n",
       "      <td>1.0</td>\n",
       "    </tr>\n",
       "    <tr>\n",
       "      <th>2</th>\n",
       "      <td>3.88.129.158</td>\n",
       "      <td>200</td>\n",
       "      <td>1.0</td>\n",
       "    </tr>\n",
       "    <tr>\n",
       "      <th>3</th>\n",
       "      <td>3.92.201.136</td>\n",
       "      <td>200</td>\n",
       "      <td>1.0</td>\n",
       "    </tr>\n",
       "    <tr>\n",
       "      <th>4</th>\n",
       "      <td>34.207.64.242</td>\n",
       "      <td>200</td>\n",
       "      <td>1.0</td>\n",
       "    </tr>\n",
       "    <tr>\n",
       "      <th>5</th>\n",
       "      <td>34.229.70.250</td>\n",
       "      <td>200</td>\n",
       "      <td>1.0</td>\n",
       "    </tr>\n",
       "    <tr>\n",
       "      <th>6</th>\n",
       "      <td>35.174.209.2</td>\n",
       "      <td>200</td>\n",
       "      <td>1.0</td>\n",
       "    </tr>\n",
       "  </tbody>\n",
       "</table></div>"
      ],
      "text/plain": [
       "               ip status_code  proba_status_given_ip\n",
       "0  173.173.113.51         200                    1.0\n",
       "1     24.26.242.9         200                    1.0\n",
       "2    3.88.129.158         200                    1.0\n",
       "3    3.92.201.136         200                    1.0\n",
       "4   34.207.64.242         200                    1.0\n",
       "5   34.229.70.250         200                    1.0\n",
       "6    35.174.209.2         200                    1.0"
      ]
     },
     "execution_count": 13,
     "metadata": {},
     "output_type": "execute_result"
    }
   ],
   "source": [
    "status_given_ip = (\n",
    "    df.groupby('ip')\n",
    "    .status_code.value_counts(normalize=True)\n",
    "    .rename('proba_status_given_ip')\n",
    "    .reset_index()\n",
    ")\n",
    "status_given_ip.head(7)"
   ]
  },
  {
   "cell_type": "markdown",
   "id": "2d23757b",
   "metadata": {},
   "source": [
    "When the probability of a status when given the ip is 100%, it becomes apparent that was the only status code encountered by the ip address. To detect anomalies here we could look for two things:\n",
    "* cases where the probability is less than 100%--meaning that multiple different status codes were encountered from the given ip address\n",
    "* Status codes other than 200. 200 is easily the most common response code. Let's start with the latter. "
   ]
  },
  {
   "cell_type": "code",
   "execution_count": 15,
   "id": "52a7dc42",
   "metadata": {},
   "outputs": [
    {
     "data": {
      "text/html": [
       "<div><div id=91137c82-8179-47b3-8607-de04552b6a35 style=\"display:none; background-color:#9D6CFF; color:white; width:200px; height:30px; padding-left:5px; border-radius:4px; flex-direction:row; justify-content:space-around; align-items:center;\" onmouseover=\"this.style.backgroundColor='#BA9BF8'\" onmouseout=\"this.style.backgroundColor='#9D6CFF'\" onclick=\"window.commands?.execute('create-mitosheet-from-dataframe-output');\">See Full Dataframe in Mito</div> <script> if (window.commands.hasCommand('create-mitosheet-from-dataframe-output')) document.getElementById('91137c82-8179-47b3-8607-de04552b6a35').style.display = 'flex' </script> <table border=\"1\" class=\"dataframe\">\n",
       "  <thead>\n",
       "    <tr style=\"text-align: right;\">\n",
       "      <th></th>\n",
       "      <th>ip</th>\n",
       "      <th>status_code</th>\n",
       "      <th>proba_status_given_ip</th>\n",
       "    </tr>\n",
       "  </thead>\n",
       "  <tbody>\n",
       "    <tr>\n",
       "      <th>18</th>\n",
       "      <td>72.181.113.170</td>\n",
       "      <td>499</td>\n",
       "      <td>0.003263</td>\n",
       "    </tr>\n",
       "    <tr>\n",
       "      <th>19</th>\n",
       "      <td>95.31.16.121</td>\n",
       "      <td>301</td>\n",
       "      <td>1.000000</td>\n",
       "    </tr>\n",
       "    <tr>\n",
       "      <th>21</th>\n",
       "      <td>97.105.15.120</td>\n",
       "      <td>301</td>\n",
       "      <td>1.000000</td>\n",
       "    </tr>\n",
       "    <tr>\n",
       "      <th>23</th>\n",
       "      <td>97.105.19.58</td>\n",
       "      <td>499</td>\n",
       "      <td>0.001167</td>\n",
       "    </tr>\n",
       "  </tbody>\n",
       "</table></div>"
      ],
      "text/plain": [
       "                ip status_code  proba_status_given_ip\n",
       "18  72.181.113.170         499               0.003263\n",
       "19    95.31.16.121         301               1.000000\n",
       "21   97.105.15.120         301               1.000000\n",
       "23    97.105.19.58         499               0.001167"
      ]
     },
     "execution_count": 15,
     "metadata": {},
     "output_type": "execute_result"
    }
   ],
   "source": [
    "status_given_ip[status_given_ip.status_code != '200']"
   ]
  },
  {
   "cell_type": "markdown",
   "id": "51c1ba7f",
   "metadata": {},
   "source": [
    "Interestingly enough, two ip addressed have exclusively encountered the 301 response, which is \n",
    "\"The HyperText Transfer Protocol (HTTP) 301 Moved Permanently redirect status response code indicates that the requested resource has been definitively moved to the URL given by the Location headers. A browser redirects to the new URL and search engines update their links to the resource.\" \n",
    "Let's dig deeper."
   ]
  },
  {
   "cell_type": "code",
   "execution_count": 16,
   "id": "9fea41e8",
   "metadata": {},
   "outputs": [
    {
     "data": {
      "text/html": [
       "<div><div id=7ef0f6f9-df3d-4a9d-8e3e-6524fda84eb7 style=\"display:none; background-color:#9D6CFF; color:white; width:200px; height:30px; padding-left:5px; border-radius:4px; flex-direction:row; justify-content:space-around; align-items:center;\" onmouseover=\"this.style.backgroundColor='#BA9BF8'\" onmouseout=\"this.style.backgroundColor='#9D6CFF'\" onclick=\"window.commands?.execute('create-mitosheet-from-dataframe-output');\">See Full Dataframe in Mito</div> <script> if (window.commands.hasCommand('create-mitosheet-from-dataframe-output')) document.getElementById('7ef0f6f9-df3d-4a9d-8e3e-6524fda84eb7').style.display = 'flex' </script> <table border=\"1\" class=\"dataframe\">\n",
       "  <thead>\n",
       "    <tr style=\"text-align: right;\">\n",
       "      <th></th>\n",
       "      <th>ip</th>\n",
       "      <th>request_method</th>\n",
       "      <th>request_path</th>\n",
       "      <th>http_version</th>\n",
       "      <th>status_code</th>\n",
       "      <th>size</th>\n",
       "      <th>user_agent</th>\n",
       "      <th>size_mb</th>\n",
       "    </tr>\n",
       "    <tr>\n",
       "      <th>timestamp</th>\n",
       "      <th></th>\n",
       "      <th></th>\n",
       "      <th></th>\n",
       "      <th></th>\n",
       "      <th></th>\n",
       "      <th></th>\n",
       "      <th></th>\n",
       "      <th></th>\n",
       "    </tr>\n",
       "  </thead>\n",
       "  <tbody>\n",
       "    <tr>\n",
       "      <th>2019-04-17 19:36:41</th>\n",
       "      <td>95.31.16.121</td>\n",
       "      <td>GET</td>\n",
       "      <td>/api/v1/sales?page=79/</td>\n",
       "      <td>HTTP/1.1</td>\n",
       "      <td>301</td>\n",
       "      <td>1005</td>\n",
       "      <td>python-requests/2.21.0</td>\n",
       "      <td>0.000958</td>\n",
       "    </tr>\n",
       "  </tbody>\n",
       "</table></div>"
      ],
      "text/plain": [
       "                               ip request_method            request_path  \\\n",
       "timestamp                                                                  \n",
       "2019-04-17 19:36:41  95.31.16.121            GET  /api/v1/sales?page=79/   \n",
       "\n",
       "                    http_version status_code  size              user_agent  \\\n",
       "timestamp                                                                    \n",
       "2019-04-17 19:36:41     HTTP/1.1         301  1005  python-requests/2.21.0   \n",
       "\n",
       "                      size_mb  \n",
       "timestamp                      \n",
       "2019-04-17 19:36:41  0.000958  "
      ]
     },
     "execution_count": 16,
     "metadata": {},
     "output_type": "execute_result"
    }
   ],
   "source": [
    "df[df.ip == '95.31.16.121']"
   ]
  },
  {
   "cell_type": "code",
   "execution_count": 17,
   "id": "3bb0a59b",
   "metadata": {},
   "outputs": [
    {
     "data": {
      "text/html": [
       "<div><div id=ce1feb9b-71bc-44c8-8fe5-8bbb8f6dee9a style=\"display:none; background-color:#9D6CFF; color:white; width:200px; height:30px; padding-left:5px; border-radius:4px; flex-direction:row; justify-content:space-around; align-items:center;\" onmouseover=\"this.style.backgroundColor='#BA9BF8'\" onmouseout=\"this.style.backgroundColor='#9D6CFF'\" onclick=\"window.commands?.execute('create-mitosheet-from-dataframe-output');\">See Full Dataframe in Mito</div> <script> if (window.commands.hasCommand('create-mitosheet-from-dataframe-output')) document.getElementById('ce1feb9b-71bc-44c8-8fe5-8bbb8f6dee9a').style.display = 'flex' </script> <table border=\"1\" class=\"dataframe\">\n",
       "  <thead>\n",
       "    <tr style=\"text-align: right;\">\n",
       "      <th></th>\n",
       "      <th>ip</th>\n",
       "      <th>request_method</th>\n",
       "      <th>request_path</th>\n",
       "      <th>http_version</th>\n",
       "      <th>status_code</th>\n",
       "      <th>size</th>\n",
       "      <th>user_agent</th>\n",
       "      <th>size_mb</th>\n",
       "    </tr>\n",
       "    <tr>\n",
       "      <th>timestamp</th>\n",
       "      <th></th>\n",
       "      <th></th>\n",
       "      <th></th>\n",
       "      <th></th>\n",
       "      <th></th>\n",
       "      <th></th>\n",
       "      <th></th>\n",
       "      <th></th>\n",
       "    </tr>\n",
       "  </thead>\n",
       "  <tbody>\n",
       "    <tr>\n",
       "      <th>2019-04-18 19:42:41</th>\n",
       "      <td>97.105.15.120</td>\n",
       "      <td>GET</td>\n",
       "      <td>/api/v1/sales?page=79/</td>\n",
       "      <td>HTTP/1.1</td>\n",
       "      <td>301</td>\n",
       "      <td>2560</td>\n",
       "      <td>python-requests/2.21.0</td>\n",
       "      <td>0.002441</td>\n",
       "    </tr>\n",
       "  </tbody>\n",
       "</table></div>"
      ],
      "text/plain": [
       "                                ip request_method            request_path  \\\n",
       "timestamp                                                                   \n",
       "2019-04-18 19:42:41  97.105.15.120            GET  /api/v1/sales?page=79/   \n",
       "\n",
       "                    http_version status_code  size              user_agent  \\\n",
       "timestamp                                                                    \n",
       "2019-04-18 19:42:41     HTTP/1.1         301  2560  python-requests/2.21.0   \n",
       "\n",
       "                      size_mb  \n",
       "timestamp                      \n",
       "2019-04-18 19:42:41  0.002441  "
      ]
     },
     "execution_count": 17,
     "metadata": {},
     "output_type": "execute_result"
    }
   ],
   "source": [
    "df[df.ip == '97.105.15.120']"
   ]
  },
  {
   "cell_type": "code",
   "execution_count": 18,
   "id": "9b146ff8",
   "metadata": {},
   "outputs": [
    {
     "data": {
      "text/html": [
       "<div><div id=6aec421e-e368-4d6e-ac25-52b76becc5bb style=\"display:none; background-color:#9D6CFF; color:white; width:200px; height:30px; padding-left:5px; border-radius:4px; flex-direction:row; justify-content:space-around; align-items:center;\" onmouseover=\"this.style.backgroundColor='#BA9BF8'\" onmouseout=\"this.style.backgroundColor='#9D6CFF'\" onclick=\"window.commands?.execute('create-mitosheet-from-dataframe-output');\">See Full Dataframe in Mito</div> <script> if (window.commands.hasCommand('create-mitosheet-from-dataframe-output')) document.getElementById('6aec421e-e368-4d6e-ac25-52b76becc5bb').style.display = 'flex' </script> <table border=\"1\" class=\"dataframe\">\n",
       "  <thead>\n",
       "    <tr style=\"text-align: right;\">\n",
       "      <th></th>\n",
       "      <th>ip</th>\n",
       "      <th>status_code</th>\n",
       "      <th>proba_status_given_ip</th>\n",
       "    </tr>\n",
       "  </thead>\n",
       "  <tbody>\n",
       "    <tr>\n",
       "      <th>17</th>\n",
       "      <td>72.181.113.170</td>\n",
       "      <td>200</td>\n",
       "      <td>0.996737</td>\n",
       "    </tr>\n",
       "    <tr>\n",
       "      <th>18</th>\n",
       "      <td>72.181.113.170</td>\n",
       "      <td>499</td>\n",
       "      <td>0.003263</td>\n",
       "    </tr>\n",
       "    <tr>\n",
       "      <th>22</th>\n",
       "      <td>97.105.19.58</td>\n",
       "      <td>200</td>\n",
       "      <td>0.998833</td>\n",
       "    </tr>\n",
       "    <tr>\n",
       "      <th>23</th>\n",
       "      <td>97.105.19.58</td>\n",
       "      <td>499</td>\n",
       "      <td>0.001167</td>\n",
       "    </tr>\n",
       "  </tbody>\n",
       "</table></div>"
      ],
      "text/plain": [
       "                ip status_code  proba_status_given_ip\n",
       "17  72.181.113.170         200               0.996737\n",
       "18  72.181.113.170         499               0.003263\n",
       "22    97.105.19.58         200               0.998833\n",
       "23    97.105.19.58         499               0.001167"
      ]
     },
     "execution_count": 18,
     "metadata": {},
     "output_type": "execute_result"
    }
   ],
   "source": [
    "# both were single instances, rather than repeated. \n",
    "# now for the former approach, less than 100% probability for a status code\n",
    "status_given_ip[status_given_ip.proba_status_given_ip < 1]"
   ]
  },
  {
   "cell_type": "markdown",
   "id": "8c2d395a",
   "metadata": {},
   "source": [
    "Here we have uncovered a couple of 499 statuses from ip addresses which otherwise seem to process normal requests.\n",
    "***\n",
    "*** \n",
    "now to step away and explore on my own. "
   ]
  },
  {
   "cell_type": "code",
   "execution_count": 5,
   "id": "32d5369a",
   "metadata": {},
   "outputs": [
    {
     "data": {
      "text/plain": [
       "Index(['ip', 'request_method', 'request_path', 'http_version', 'status_code',\n",
       "       'size', 'user_agent', 'size_mb'],\n",
       "      dtype='object')"
      ]
     },
     "execution_count": 5,
     "metadata": {},
     "output_type": "execute_result"
    }
   ],
   "source": [
    "df.columns"
   ]
  },
  {
   "cell_type": "code",
   "execution_count": 8,
   "id": "48521142-ddb6-4648-9d4a-d5edd0cee5d4",
   "metadata": {},
   "outputs": [
    {
     "data": {
      "text/html": [
       "<div><div id=d2d6b9d5-0902-4389-ad39-8551c74584c5 style=\"display:none; background-color:#9D6CFF; color:white; width:200px; height:30px; padding-left:5px; border-radius:4px; flex-direction:row; justify-content:space-around; align-items:center;\" onmouseover=\"this.style.backgroundColor='#BA9BF8'\" onmouseout=\"this.style.backgroundColor='#9D6CFF'\" onclick=\"window.commands?.execute('create-mitosheet-from-dataframe-output');\">See Full Dataframe in Mito</div> <script> if (window.commands.hasCommand('create-mitosheet-from-dataframe-output')) document.getElementById('d2d6b9d5-0902-4389-ad39-8551c74584c5').style.display = 'flex' </script> <table border=\"1\" class=\"dataframe\">\n",
       "  <thead>\n",
       "    <tr style=\"text-align: right;\">\n",
       "      <th></th>\n",
       "      <th>count</th>\n",
       "      <th>proba</th>\n",
       "    </tr>\n",
       "  </thead>\n",
       "  <tbody>\n",
       "    <tr>\n",
       "      <th>GET</th>\n",
       "      <td>13978</td>\n",
       "      <td>1.0</td>\n",
       "    </tr>\n",
       "  </tbody>\n",
       "</table></div>"
      ],
      "text/plain": [
       "     count  proba\n",
       "GET  13978    1.0"
      ]
     },
     "execution_count": 8,
     "metadata": {},
     "output_type": "execute_result"
    }
   ],
   "source": [
    "reqmet_df = value_counts_and_frequencies(df.request_method)\n",
    "reqmet_df.head(7)"
   ]
  },
  {
   "cell_type": "code",
   "execution_count": 10,
   "id": "67e874b5-6508-4b8a-939b-d924c5f0d0f1",
   "metadata": {},
   "outputs": [
    {
     "data": {
      "text/html": [
       "<div><div id=b794a390-9a15-41ce-aa1d-c8699610b633 style=\"display:none; background-color:#9D6CFF; color:white; width:200px; height:30px; padding-left:5px; border-radius:4px; flex-direction:row; justify-content:space-around; align-items:center;\" onmouseover=\"this.style.backgroundColor='#BA9BF8'\" onmouseout=\"this.style.backgroundColor='#9D6CFF'\" onclick=\"window.commands?.execute('create-mitosheet-from-dataframe-output');\">See Full Dataframe in Mito</div> <script> if (window.commands.hasCommand('create-mitosheet-from-dataframe-output')) document.getElementById('b794a390-9a15-41ce-aa1d-c8699610b633').style.display = 'flex' </script> <table border=\"1\" class=\"dataframe\">\n",
       "  <thead>\n",
       "    <tr style=\"text-align: right;\">\n",
       "      <th></th>\n",
       "      <th>count</th>\n",
       "      <th>proba</th>\n",
       "    </tr>\n",
       "  </thead>\n",
       "  <tbody>\n",
       "    <tr>\n",
       "      <th>/api/v1/sales?page=2</th>\n",
       "      <td>709</td>\n",
       "      <td>0.050723</td>\n",
       "    </tr>\n",
       "    <tr>\n",
       "      <th>/api/v1/items</th>\n",
       "      <td>464</td>\n",
       "      <td>0.033195</td>\n",
       "    </tr>\n",
       "    <tr>\n",
       "      <th>/api/v1/items?page=2</th>\n",
       "      <td>291</td>\n",
       "      <td>0.020818</td>\n",
       "    </tr>\n",
       "    <tr>\n",
       "      <th>/api/v1/items?page=3</th>\n",
       "      <td>219</td>\n",
       "      <td>0.015667</td>\n",
       "    </tr>\n",
       "    <tr>\n",
       "      <th>/api/v1/stores</th>\n",
       "      <td>162</td>\n",
       "      <td>0.011590</td>\n",
       "    </tr>\n",
       "    <tr>\n",
       "      <th>...</th>\n",
       "      <td>...</td>\n",
       "      <td>...</td>\n",
       "    </tr>\n",
       "    <tr>\n",
       "      <th>/api/v1/sales?page=34</th>\n",
       "      <td>67</td>\n",
       "      <td>0.004793</td>\n",
       "    </tr>\n",
       "    <tr>\n",
       "      <th>/api/v1/sales?page=42</th>\n",
       "      <td>67</td>\n",
       "      <td>0.004793</td>\n",
       "    </tr>\n",
       "    <tr>\n",
       "      <th>/api/v1/sales?page=37</th>\n",
       "      <td>67</td>\n",
       "      <td>0.004793</td>\n",
       "    </tr>\n",
       "    <tr>\n",
       "      <th>/api/v1/sales?page=43</th>\n",
       "      <td>67</td>\n",
       "      <td>0.004793</td>\n",
       "    </tr>\n",
       "    <tr>\n",
       "      <th>/api/v1/sales?page=44</th>\n",
       "      <td>67</td>\n",
       "      <td>0.004793</td>\n",
       "    </tr>\n",
       "  </tbody>\n",
       "</table></div>"
      ],
      "text/plain": [
       "                       count     proba\n",
       "/api/v1/sales?page=2     709  0.050723\n",
       "/api/v1/items            464  0.033195\n",
       "/api/v1/items?page=2     291  0.020818\n",
       "/api/v1/items?page=3     219  0.015667\n",
       "/api/v1/stores           162  0.011590\n",
       "/api/v1/sales            152  0.010874\n",
       "/                        107  0.007655\n",
       "/documentation           100  0.007154\n",
       "/api/v1/sales?page=3      91  0.006510\n",
       "/api/v1/items?page=1      88  0.006296\n",
       "/api/v1/sales?page=5      83  0.005938\n",
       "/api/v1/sales?page=4      83  0.005938\n",
       "/api/v1/sales?page=6      78  0.005580\n",
       "/api/v1/sales?page=8      76  0.005437\n",
       "/api/v1/sales?page=7      76  0.005437\n",
       "/api/v1/sales?page=10     75  0.005366\n",
       "/api/v1/sales?page=9      75  0.005366\n",
       "/api/v1/sales?page=12     74  0.005294\n",
       "/api/v1/sales?page=18     74  0.005294\n",
       "/api/v1/sales?page=11     74  0.005294\n",
       "/api/v1/sales?page=13     73  0.005222\n",
       "/api/v1/sales?page=14     73  0.005222\n",
       "/api/v1/sales?page=15     73  0.005222\n",
       "/api/v1/sales?page=16     73  0.005222\n",
       "/api/v1/sales?page=19     73  0.005222\n",
       "/api/v1/sales?page=20     73  0.005222\n",
       "/api/v1/sales?page=21     73  0.005222\n",
       "/api/v1/sales?page=17     73  0.005222\n",
       "/api/v1/sales?page=22     72  0.005151\n",
       "/api/v1/sales?page=23     71  0.005079\n",
       "/api/v1/sales?page=24     71  0.005079\n",
       "/api/v1/sales?page=25     71  0.005079\n",
       "/api/v1/sales?page=29     69  0.004936\n",
       "/api/v1/sales?page=26     69  0.004936\n",
       "/api/v1/sales?page=27     69  0.004936\n",
       "/api/v1/sales?page=28     69  0.004936\n",
       "/api/v1/sales?page=30     68  0.004865\n",
       "/api/v1/sales?page=31     68  0.004865\n",
       "/api/v1/sales?page=32     68  0.004865\n",
       "/api/v1/sales?page=40     67  0.004793\n",
       "/api/v1/sales?page=35     67  0.004793\n",
       "/api/v1/sales?page=41     67  0.004793\n",
       "/api/v1/sales?page=45     67  0.004793\n",
       "/api/v1/sales?page=39     67  0.004793\n",
       "/api/v1/sales?page=38     67  0.004793\n",
       "/api/v1/sales?page=34     67  0.004793\n",
       "/api/v1/sales?page=42     67  0.004793\n",
       "/api/v1/sales?page=37     67  0.004793\n",
       "/api/v1/sales?page=43     67  0.004793\n",
       "/api/v1/sales?page=44     67  0.004793"
      ]
     },
     "execution_count": 10,
     "metadata": {},
     "output_type": "execute_result"
    }
   ],
   "source": [
    "reqpat_df = value_counts_and_frequencies(df.request_path)\n",
    "reqpat_df.head(50)\n",
    "# I will return to this one and parse it further so it separates at each forward slash. "
   ]
  },
  {
   "cell_type": "code",
   "execution_count": 11,
   "id": "ef19f417-f923-4861-b766-b11364c0dac0",
   "metadata": {},
   "outputs": [
    {
     "data": {
      "text/html": [
       "<div><div id=6252e678-0517-4dab-816e-866dc4ef40ab style=\"display:none; background-color:#9D6CFF; color:white; width:200px; height:30px; padding-left:5px; border-radius:4px; flex-direction:row; justify-content:space-around; align-items:center;\" onmouseover=\"this.style.backgroundColor='#BA9BF8'\" onmouseout=\"this.style.backgroundColor='#9D6CFF'\" onclick=\"window.commands?.execute('create-mitosheet-from-dataframe-output');\">See Full Dataframe in Mito</div> <script> if (window.commands.hasCommand('create-mitosheet-from-dataframe-output')) document.getElementById('6252e678-0517-4dab-816e-866dc4ef40ab').style.display = 'flex' </script> <table border=\"1\" class=\"dataframe\">\n",
       "  <thead>\n",
       "    <tr style=\"text-align: right;\">\n",
       "      <th></th>\n",
       "      <th>count</th>\n",
       "      <th>proba</th>\n",
       "    </tr>\n",
       "  </thead>\n",
       "  <tbody>\n",
       "    <tr>\n",
       "      <th>HTTP/1.1</th>\n",
       "      <td>13978</td>\n",
       "      <td>1.0</td>\n",
       "    </tr>\n",
       "  </tbody>\n",
       "</table></div>"
      ],
      "text/plain": [
       "          count  proba\n",
       "HTTP/1.1  13978    1.0"
      ]
     },
     "execution_count": 11,
     "metadata": {},
     "output_type": "execute_result"
    }
   ],
   "source": [
    "http_df = value_counts_and_frequencies(df.http_version)\n",
    "http_df.head(10)"
   ]
  },
  {
   "cell_type": "code",
   "execution_count": 13,
   "id": "f35c88a8-85f6-4e20-a7b4-e4d20a2551ca",
   "metadata": {},
   "outputs": [
    {
     "data": {
      "text/html": [
       "<div><div id=642b72e8-369d-4c86-bd99-83935448c5c3 style=\"display:none; background-color:#9D6CFF; color:white; width:200px; height:30px; padding-left:5px; border-radius:4px; flex-direction:row; justify-content:space-around; align-items:center;\" onmouseover=\"this.style.backgroundColor='#BA9BF8'\" onmouseout=\"this.style.backgroundColor='#9D6CFF'\" onclick=\"window.commands?.execute('create-mitosheet-from-dataframe-output');\">See Full Dataframe in Mito</div> <script> if (window.commands.hasCommand('create-mitosheet-from-dataframe-output')) document.getElementById('642b72e8-369d-4c86-bd99-83935448c5c3').style.display = 'flex' </script> <table border=\"1\" class=\"dataframe\">\n",
       "  <thead>\n",
       "    <tr style=\"text-align: right;\">\n",
       "      <th></th>\n",
       "      <th>count</th>\n",
       "      <th>proba</th>\n",
       "    </tr>\n",
       "  </thead>\n",
       "  <tbody>\n",
       "    <tr>\n",
       "      <th>200</th>\n",
       "      <td>13960</td>\n",
       "      <td>0.998712</td>\n",
       "    </tr>\n",
       "    <tr>\n",
       "      <th>499</th>\n",
       "      <td>16</td>\n",
       "      <td>0.001145</td>\n",
       "    </tr>\n",
       "    <tr>\n",
       "      <th>301</th>\n",
       "      <td>2</td>\n",
       "      <td>0.000143</td>\n",
       "    </tr>\n",
       "  </tbody>\n",
       "</table></div>"
      ],
      "text/plain": [
       "     count     proba\n",
       "200  13960  0.998712\n",
       "499     16  0.001145\n",
       "301      2  0.000143"
      ]
     },
     "execution_count": 13,
     "metadata": {},
     "output_type": "execute_result"
    }
   ],
   "source": [
    "status_df = value_counts_and_frequencies(df.status_code)\n",
    "status_df.head(10)\n",
    "# perhaps worth further investigation, although in some essence it has already been tackled\n",
    "# however, after I parse the request path I should be able to detect at what point it breaks."
   ]
  },
  {
   "cell_type": "code",
   "execution_count": 15,
   "id": "eeb99c77-504d-4d43-86a5-32ee86d6ee6d",
   "metadata": {},
   "outputs": [
    {
     "data": {
      "text/html": [
       "<div><div id=719d6b17-877b-4f18-9430-58b6d593ea44 style=\"display:none; background-color:#9D6CFF; color:white; width:200px; height:30px; padding-left:5px; border-radius:4px; flex-direction:row; justify-content:space-around; align-items:center;\" onmouseover=\"this.style.backgroundColor='#BA9BF8'\" onmouseout=\"this.style.backgroundColor='#9D6CFF'\" onclick=\"window.commands?.execute('create-mitosheet-from-dataframe-output');\">See Full Dataframe in Mito</div> <script> if (window.commands.hasCommand('create-mitosheet-from-dataframe-output')) document.getElementById('719d6b17-877b-4f18-9430-58b6d593ea44').style.display = 'flex' </script> <table border=\"1\" class=\"dataframe\">\n",
       "  <thead>\n",
       "    <tr style=\"text-align: right;\">\n",
       "      <th></th>\n",
       "      <th>count</th>\n",
       "      <th>proba</th>\n",
       "    </tr>\n",
       "  </thead>\n",
       "  <tbody>\n",
       "    <tr>\n",
       "      <th>python-requests/2.21.0</th>\n",
       "      <td>12005</td>\n",
       "      <td>0.858850</td>\n",
       "    </tr>\n",
       "    <tr>\n",
       "      <th>python-requests/2.20.1</th>\n",
       "      <td>1911</td>\n",
       "      <td>0.136715</td>\n",
       "    </tr>\n",
       "    <tr>\n",
       "      <th>Mozilla/5.0 (Macintosh; Intel Mac OS X 10_14_4) AppleWebKit/537.36 (KHTML, like Gecko) Chrome/73.0.3683.103 Safari/537.36</th>\n",
       "      <td>34</td>\n",
       "      <td>0.002432</td>\n",
       "    </tr>\n",
       "    <tr>\n",
       "      <th>Mozilla/5.0 (Macintosh; Intel Mac OS X 10.14; rv:66.0) Gecko/20100101 Firefox/66.0</th>\n",
       "      <td>8</td>\n",
       "      <td>0.000572</td>\n",
       "    </tr>\n",
       "    <tr>\n",
       "      <th>Slackbot-LinkExpanding 1.0 (+https://api.slack.com/robots)</th>\n",
       "      <td>7</td>\n",
       "      <td>0.000501</td>\n",
       "    </tr>\n",
       "    <tr>\n",
       "      <th>Slackbot 1.0 (+https://api.slack.com/robots)</th>\n",
       "      <td>6</td>\n",
       "      <td>0.000429</td>\n",
       "    </tr>\n",
       "    <tr>\n",
       "      <th>Mozilla/5.0 (Macintosh; Intel Mac OS X 10_14_3) AppleWebKit/537.36 (KHTML, like Gecko) Chrome/73.0.3683.103 Safari/537.36</th>\n",
       "      <td>4</td>\n",
       "      <td>0.000286</td>\n",
       "    </tr>\n",
       "    <tr>\n",
       "      <th>Mozilla/5.0 (Macintosh; Intel Mac OS X 10_14_3) AppleWebKit/537.36 (KHTML, like Gecko) Chrome/72.0.3626.121 Safari/537.36</th>\n",
       "      <td>2</td>\n",
       "      <td>0.000143</td>\n",
       "    </tr>\n",
       "    <tr>\n",
       "      <th>Python-urllib/3.7</th>\n",
       "      <td>1</td>\n",
       "      <td>0.000072</td>\n",
       "    </tr>\n",
       "  </tbody>\n",
       "</table></div>"
      ],
      "text/plain": [
       "                                                    count     proba\n",
       "python-requests/2.21.0                              12005  0.858850\n",
       "python-requests/2.20.1                               1911  0.136715\n",
       "Mozilla/5.0 (Macintosh; Intel Mac OS X 10_14_4)...     34  0.002432\n",
       "Mozilla/5.0 (Macintosh; Intel Mac OS X 10.14; r...      8  0.000572\n",
       "Slackbot-LinkExpanding 1.0 (+https://api.slack....      7  0.000501\n",
       "Slackbot 1.0 (+https://api.slack.com/robots)            6  0.000429\n",
       "Mozilla/5.0 (Macintosh; Intel Mac OS X 10_14_3)...      4  0.000286\n",
       "Mozilla/5.0 (Macintosh; Intel Mac OS X 10_14_3)...      2  0.000143\n",
       "Python-urllib/3.7                                       1  0.000072"
      ]
     },
     "execution_count": 15,
     "metadata": {},
     "output_type": "execute_result"
    }
   ],
   "source": [
    "# I don't think size will help right now, so lastly I will check user_agent\n",
    "useragent_df = value_counts_and_frequencies(df.user_agent)\n",
    "useragent_df.head(10)"
   ]
  },
  {
   "cell_type": "markdown",
   "id": "b2edd612-d6bf-453f-b03d-a9f97aff2054",
   "metadata": {},
   "source": [
    "To further explore this issue, handling the user_agent, status_code, a more parsed request_path may very well reveal new insights. I will start by further parsing the path. Going into this, it is worth remembering that there were 18 instances where the status code was anything other than 200. "
   ]
  },
  {
   "cell_type": "code",
   "execution_count": 41,
   "id": "3620dd19-46a3-4ca2-808f-2b86a78f1b7c",
   "metadata": {},
   "outputs": [],
   "source": [
    "paths = pd.DataFrame(df.request_path.str.split('/', expand=True))"
   ]
  },
  {
   "cell_type": "code",
   "execution_count": 42,
   "id": "88a9e69e-f8f7-4103-8e38-c84d01fd026d",
   "metadata": {},
   "outputs": [],
   "source": [
    "paths = paths.rename(columns={1: 'path_1', 2: 'path_2', 3: 'path_3', 4: 'path_4', 5: 'path_5', 6: 'path_6'})\n",
    "paths = paths.drop([0], axis=1)"
   ]
  },
  {
   "cell_type": "code",
   "execution_count": 43,
   "id": "1e9ae74e-498c-4dea-81d7-8fffa86b6c16",
   "metadata": {},
   "outputs": [
    {
     "data": {
      "text/plain": [
       "api              13745\n",
       "                   107\n",
       "documentation      100\n",
       "favicon.ico         26\n",
       "Name: path_1, dtype: int64"
      ]
     },
     "execution_count": 43,
     "metadata": {},
     "output_type": "execute_result"
    }
   ],
   "source": [
    "paths['path_1'].value_counts()\n",
    "# perhaps an error is popping up in cases where the initial path is registered as blank space."
   ]
  },
  {
   "cell_type": "code",
   "execution_count": 44,
   "id": "692b1277-f053-4ab2-a2e1-6d564bc4b954",
   "metadata": {},
   "outputs": [
    {
     "data": {
      "text/plain": [
       "v1         13742\n",
       "v1items        2\n",
       "V1             1\n",
       "Name: path_2, dtype: int64"
      ]
     },
     "execution_count": 44,
     "metadata": {},
     "output_type": "execute_result"
    }
   ],
   "source": [
    "paths['path_2'].value_counts()\n",
    "# additionally, an error may occur when the version is captitalized i.e. V1\n",
    "# moreover, when items is right next to v1 rather than set apart by /"
   ]
  },
  {
   "cell_type": "code",
   "execution_count": 45,
   "id": "d272e09c-2ca2-44c6-928e-2f00b345b215",
   "metadata": {},
   "outputs": [
    {
     "data": {
      "text/plain": [
       "sales?page=2       709\n",
       "items              477\n",
       "items?page=2       291\n",
       "items?page=3       219\n",
       "stores             162\n",
       "                  ... \n",
       "items?page=0         1\n",
       "stores?page=999      1\n",
       "stores?page=666      1\n",
       "HiZach!              1\n",
       "items?page=4         1\n",
       "Name: path_3, Length: 206, dtype: int64"
      ]
     },
     "execution_count": 45,
     "metadata": {},
     "output_type": "execute_result"
    }
   ],
   "source": [
    "paths['path_3'].value_counts()\n",
    "# it becomes evident that page numbers in excess exist, another potential (likely) problem"
   ]
  },
  {
   "cell_type": "code",
   "execution_count": 46,
   "id": "dfe58497-49c4-4577-8410-b4a7d896405c",
   "metadata": {},
   "outputs": [
    {
     "data": {
      "text/plain": [
       "api          19\n",
       "next_page     5\n",
       "              4\n",
       "?page=2       3\n",
       "Name: path_4, dtype: int64"
      ]
     },
     "execution_count": 46,
     "metadata": {},
     "output_type": "execute_result"
    }
   ],
   "source": [
    "paths['path_4'].value_counts()\n",
    "# the majority are NaN at this point, but there is a blankspace instance four times"
   ]
  },
  {
   "cell_type": "code",
   "execution_count": 47,
   "id": "e20ff204-4402-4d9a-a961-d1150f3f7e3d",
   "metadata": {},
   "outputs": [
    {
     "data": {
      "text/plain": [
       "v1    19\n",
       "Name: path_5, dtype: int64"
      ]
     },
     "execution_count": 47,
     "metadata": {},
     "output_type": "execute_result"
    }
   ],
   "source": [
    "paths['path_5'].value_counts()\n",
    "# all are NaN except for 19 instances where v1 is reiterated"
   ]
  },
  {
   "cell_type": "code",
   "execution_count": 48,
   "id": "23e04dfb-1d2f-4837-b4f7-57f8e9fac556",
   "metadata": {},
   "outputs": [
    {
     "data": {
      "text/plain": [
       "items?page=2    16\n",
       "items            2\n",
       "items?page=3     1\n",
       "Name: path_6, dtype: int64"
      ]
     },
     "execution_count": 48,
     "metadata": {},
     "output_type": "execute_result"
    }
   ],
   "source": [
    "paths['path_6'].value_counts()\n",
    "# these remaining 19 are likely all aligned with those that have occured on path 5\n",
    "# if not, that is a problem. "
   ]
  },
  {
   "cell_type": "code",
   "execution_count": 49,
   "id": "7d26238e-74c2-48f8-a971-896ebb719fb3",
   "metadata": {},
   "outputs": [],
   "source": [
    "# Now I'll add these paths to the original dataframe\n",
    "original_dataframe = df.copy()"
   ]
  },
  {
   "cell_type": "code",
   "execution_count": 50,
   "id": "65946850-1d1b-4f39-b680-6184dbe86f16",
   "metadata": {},
   "outputs": [],
   "source": [
    "df = pd.concat([df, paths], axis=1) "
   ]
  },
  {
   "cell_type": "code",
   "execution_count": 51,
   "id": "a2d4f8fb-b466-4867-a965-86dcf6411eae",
   "metadata": {},
   "outputs": [
    {
     "data": {
      "text/plain": [
       "Index([            'ip', 'request_method',   'request_path',   'http_version',\n",
       "          'status_code',           'size',     'user_agent',        'size_mb',\n",
       "               'path_1',         'path_2',         'path_3',         'path_4',\n",
       "               'path_5',         'path_6',                7],\n",
       "      dtype='object')"
      ]
     },
     "execution_count": 51,
     "metadata": {},
     "output_type": "execute_result"
    }
   ],
   "source": [
    "df.columns"
   ]
  },
  {
   "cell_type": "code",
   "execution_count": 54,
   "id": "0bab227d-9686-41cc-be51-8d63b0d3050c",
   "metadata": {},
   "outputs": [
    {
     "data": {
      "text/plain": [
       "7        \n",
       "next_page    1\n",
       "dtype: int64"
      ]
     },
     "execution_count": 54,
     "metadata": {},
     "output_type": "execute_result"
    }
   ],
   "source": [
    "# I missed '7'\n",
    "paths[[7]].value_counts()"
   ]
  },
  {
   "cell_type": "code",
   "execution_count": 55,
   "id": "b128be4d-0fdb-4b4f-81c5-caf62201c4a1",
   "metadata": {},
   "outputs": [
    {
     "data": {
      "text/html": [
       "<div><div id=99cc3801-1138-43a8-a8b8-f06c415b94ef style=\"display:none; background-color:#9D6CFF; color:white; width:200px; height:30px; padding-left:5px; border-radius:4px; flex-direction:row; justify-content:space-around; align-items:center;\" onmouseover=\"this.style.backgroundColor='#BA9BF8'\" onmouseout=\"this.style.backgroundColor='#9D6CFF'\" onclick=\"window.commands?.execute('create-mitosheet-from-dataframe-output');\">See Full Dataframe in Mito</div> <script> if (window.commands.hasCommand('create-mitosheet-from-dataframe-output')) document.getElementById('99cc3801-1138-43a8-a8b8-f06c415b94ef').style.display = 'flex' </script> <table border=\"1\" class=\"dataframe\">\n",
       "  <thead>\n",
       "    <tr style=\"text-align: right;\">\n",
       "      <th></th>\n",
       "      <th>count</th>\n",
       "      <th>proba</th>\n",
       "    </tr>\n",
       "  </thead>\n",
       "  <tbody>\n",
       "    <tr>\n",
       "      <th>api</th>\n",
       "      <td>13745</td>\n",
       "      <td>0.983331</td>\n",
       "    </tr>\n",
       "    <tr>\n",
       "      <th></th>\n",
       "      <td>107</td>\n",
       "      <td>0.007655</td>\n",
       "    </tr>\n",
       "    <tr>\n",
       "      <th>documentation</th>\n",
       "      <td>100</td>\n",
       "      <td>0.007154</td>\n",
       "    </tr>\n",
       "    <tr>\n",
       "      <th>favicon.ico</th>\n",
       "      <td>26</td>\n",
       "      <td>0.001860</td>\n",
       "    </tr>\n",
       "  </tbody>\n",
       "</table></div>"
      ],
      "text/plain": [
       "               count     proba\n",
       "api            13745  0.983331\n",
       "                 107  0.007655\n",
       "documentation    100  0.007154\n",
       "favicon.ico       26  0.001860"
      ]
     },
     "execution_count": 55,
     "metadata": {},
     "output_type": "execute_result"
    }
   ],
   "source": [
    "# This will seem a little redundant, but I'll check again using my UDF\n",
    "path1_df = value_counts_and_frequencies(df.path_1)\n",
    "path1_df.head(10)"
   ]
  },
  {
   "cell_type": "code",
   "execution_count": 69,
   "id": "dceaf32c-1e0e-4bc0-922d-7e8ff64466d9",
   "metadata": {},
   "outputs": [
    {
     "data": {
      "text/plain": [
       "dtype('O')"
      ]
     },
     "execution_count": 69,
     "metadata": {},
     "output_type": "execute_result"
    }
   ],
   "source": [
    "df.status_code.dtype"
   ]
  },
  {
   "cell_type": "code",
   "execution_count": 67,
   "id": "df3101b7-4323-4511-93a8-a4f8ed62a555",
   "metadata": {},
   "outputs": [
    {
     "data": {
      "text/html": [
       "<div><div id=bccf47ad-20cb-4afc-bef8-dc5b8e6ca5b2 style=\"display:none; background-color:#9D6CFF; color:white; width:200px; height:30px; padding-left:5px; border-radius:4px; flex-direction:row; justify-content:space-around; align-items:center;\" onmouseover=\"this.style.backgroundColor='#BA9BF8'\" onmouseout=\"this.style.backgroundColor='#9D6CFF'\" onclick=\"window.commands?.execute('create-mitosheet-from-dataframe-output');\">See Full Dataframe in Mito</div> <script> if (window.commands.hasCommand('create-mitosheet-from-dataframe-output')) document.getElementById('bccf47ad-20cb-4afc-bef8-dc5b8e6ca5b2').style.display = 'flex' </script> <table border=\"1\" class=\"dataframe\">\n",
       "  <thead>\n",
       "    <tr style=\"text-align: right;\">\n",
       "      <th></th>\n",
       "      <th>ip</th>\n",
       "      <th>request_method</th>\n",
       "      <th>request_path</th>\n",
       "      <th>http_version</th>\n",
       "      <th>status_code</th>\n",
       "      <th>size</th>\n",
       "      <th>user_agent</th>\n",
       "      <th>size_mb</th>\n",
       "      <th>path_1</th>\n",
       "      <th>path_2</th>\n",
       "      <th>path_3</th>\n",
       "      <th>path_4</th>\n",
       "      <th>path_5</th>\n",
       "      <th>path_6</th>\n",
       "      <th>7</th>\n",
       "    </tr>\n",
       "    <tr>\n",
       "      <th>timestamp</th>\n",
       "      <th></th>\n",
       "      <th></th>\n",
       "      <th></th>\n",
       "      <th></th>\n",
       "      <th></th>\n",
       "      <th></th>\n",
       "      <th></th>\n",
       "      <th></th>\n",
       "      <th></th>\n",
       "      <th></th>\n",
       "      <th></th>\n",
       "      <th></th>\n",
       "      <th></th>\n",
       "      <th></th>\n",
       "      <th></th>\n",
       "    </tr>\n",
       "  </thead>\n",
       "  <tbody>\n",
       "  </tbody>\n",
       "</table></div>"
      ],
      "text/plain": [
       "Empty DataFrame\n",
       "Columns: [ip, request_method, request_path, http_version, status_code, size, user_agent, size_mb, path_1, path_2, path_3, path_4, path_5, path_6, 7]\n",
       "Index: []"
      ]
     },
     "execution_count": 67,
     "metadata": {},
     "output_type": "execute_result"
    }
   ],
   "source": [
    "favicon = df[df.path_1 == 'favicon.ico']\n",
    "favicon[favicon.status_code != '200']\n",
    "# so there are no instances where favicon is responsible for the error"
   ]
  },
  {
   "cell_type": "code",
   "execution_count": 72,
   "id": "53a8c0f1-caaa-4d4d-b3be-e8a27aa587c7",
   "metadata": {},
   "outputs": [
    {
     "data": {
      "text/html": [
       "<div><div id=36a3f9d0-e141-470b-b5f5-f3d74c10d158 style=\"display:none; background-color:#9D6CFF; color:white; width:200px; height:30px; padding-left:5px; border-radius:4px; flex-direction:row; justify-content:space-around; align-items:center;\" onmouseover=\"this.style.backgroundColor='#BA9BF8'\" onmouseout=\"this.style.backgroundColor='#9D6CFF'\" onclick=\"window.commands?.execute('create-mitosheet-from-dataframe-output');\">See Full Dataframe in Mito</div> <script> if (window.commands.hasCommand('create-mitosheet-from-dataframe-output')) document.getElementById('36a3f9d0-e141-470b-b5f5-f3d74c10d158').style.display = 'flex' </script> <table border=\"1\" class=\"dataframe\">\n",
       "  <thead>\n",
       "    <tr style=\"text-align: right;\">\n",
       "      <th></th>\n",
       "      <th>ip</th>\n",
       "      <th>request_method</th>\n",
       "      <th>request_path</th>\n",
       "      <th>http_version</th>\n",
       "      <th>status_code</th>\n",
       "      <th>size</th>\n",
       "      <th>user_agent</th>\n",
       "      <th>size_mb</th>\n",
       "      <th>path_1</th>\n",
       "      <th>path_2</th>\n",
       "      <th>path_3</th>\n",
       "      <th>path_4</th>\n",
       "      <th>path_5</th>\n",
       "      <th>path_6</th>\n",
       "      <th>7</th>\n",
       "    </tr>\n",
       "    <tr>\n",
       "      <th>timestamp</th>\n",
       "      <th></th>\n",
       "      <th></th>\n",
       "      <th></th>\n",
       "      <th></th>\n",
       "      <th></th>\n",
       "      <th></th>\n",
       "      <th></th>\n",
       "      <th></th>\n",
       "      <th></th>\n",
       "      <th></th>\n",
       "      <th></th>\n",
       "      <th></th>\n",
       "      <th></th>\n",
       "      <th></th>\n",
       "      <th></th>\n",
       "    </tr>\n",
       "  </thead>\n",
       "  <tbody>\n",
       "  </tbody>\n",
       "</table></div>"
      ],
      "text/plain": [
       "Empty DataFrame\n",
       "Columns: [ip, request_method, request_path, http_version, status_code, size, user_agent, size_mb, path_1, path_2, path_3, path_4, path_5, path_6, 7]\n",
       "Index: []"
      ]
     },
     "execution_count": 72,
     "metadata": {},
     "output_type": "execute_result"
    }
   ],
   "source": [
    "documentation = df[df.path_1 == 'documentation']\n",
    "documentation[documentation.status_code != '200']\n",
    "# the same goes for documentation"
   ]
  },
  {
   "cell_type": "code",
   "execution_count": 75,
   "id": "e861f816-f680-43f1-9fe2-2f5e82fa5ae0",
   "metadata": {},
   "outputs": [
    {
     "data": {
      "text/html": [
       "<div><div id=bee7c41a-d33e-4f73-92bf-ff45f2277929 style=\"display:none; background-color:#9D6CFF; color:white; width:200px; height:30px; padding-left:5px; border-radius:4px; flex-direction:row; justify-content:space-around; align-items:center;\" onmouseover=\"this.style.backgroundColor='#BA9BF8'\" onmouseout=\"this.style.backgroundColor='#9D6CFF'\" onclick=\"window.commands?.execute('create-mitosheet-from-dataframe-output');\">See Full Dataframe in Mito</div> <script> if (window.commands.hasCommand('create-mitosheet-from-dataframe-output')) document.getElementById('bee7c41a-d33e-4f73-92bf-ff45f2277929').style.display = 'flex' </script> <table border=\"1\" class=\"dataframe\">\n",
       "  <thead>\n",
       "    <tr style=\"text-align: right;\">\n",
       "      <th></th>\n",
       "      <th>ip</th>\n",
       "      <th>request_method</th>\n",
       "      <th>request_path</th>\n",
       "      <th>http_version</th>\n",
       "      <th>status_code</th>\n",
       "      <th>size</th>\n",
       "      <th>user_agent</th>\n",
       "      <th>size_mb</th>\n",
       "      <th>path_1</th>\n",
       "      <th>path_2</th>\n",
       "      <th>path_3</th>\n",
       "      <th>path_4</th>\n",
       "      <th>path_5</th>\n",
       "      <th>path_6</th>\n",
       "      <th>7</th>\n",
       "    </tr>\n",
       "    <tr>\n",
       "      <th>timestamp</th>\n",
       "      <th></th>\n",
       "      <th></th>\n",
       "      <th></th>\n",
       "      <th></th>\n",
       "      <th></th>\n",
       "      <th></th>\n",
       "      <th></th>\n",
       "      <th></th>\n",
       "      <th></th>\n",
       "      <th></th>\n",
       "      <th></th>\n",
       "      <th></th>\n",
       "      <th></th>\n",
       "      <th></th>\n",
       "      <th></th>\n",
       "    </tr>\n",
       "  </thead>\n",
       "  <tbody>\n",
       "  </tbody>\n",
       "</table></div>"
      ],
      "text/plain": [
       "Empty DataFrame\n",
       "Columns: [ip, request_method, request_path, http_version, status_code, size, user_agent, size_mb, path_1, path_2, path_3, path_4, path_5, path_6, 7]\n",
       "Index: []"
      ]
     },
     "execution_count": 75,
     "metadata": {},
     "output_type": "execute_result"
    }
   ],
   "source": [
    "#blank = df[df.path_1 == '']\n",
    "blank[blank.status_code != '200']"
   ]
  },
  {
   "cell_type": "code",
   "execution_count": 79,
   "id": "134526c6-6e19-4c1e-8cdf-1299749c976a",
   "metadata": {},
   "outputs": [],
   "source": [
    "api = df[df.path_1 == 'api']\n",
    "offender = api[api.status_code != '200']\n",
    "# lesson learned, start with the most frequent. "
   ]
  },
  {
   "cell_type": "code",
   "execution_count": 83,
   "id": "9c756414-3a2a-419e-a5d6-d67760b3e66e",
   "metadata": {},
   "outputs": [
    {
     "data": {
      "text/plain": [
       "(18, 15)"
      ]
     },
     "execution_count": 83,
     "metadata": {},
     "output_type": "execute_result"
    }
   ],
   "source": [
    "offender.shape\n",
    "# all 18 erroneous status codes accounted for. "
   ]
  },
  {
   "cell_type": "code",
   "execution_count": 56,
   "id": "25f9ff3f-b44b-41f9-a592-4a4518d9a2bd",
   "metadata": {},
   "outputs": [
    {
     "data": {
      "text/html": [
       "<div><div id=da6ff2d1-0478-4593-a0d1-2563f2beb82e style=\"display:none; background-color:#9D6CFF; color:white; width:200px; height:30px; padding-left:5px; border-radius:4px; flex-direction:row; justify-content:space-around; align-items:center;\" onmouseover=\"this.style.backgroundColor='#BA9BF8'\" onmouseout=\"this.style.backgroundColor='#9D6CFF'\" onclick=\"window.commands?.execute('create-mitosheet-from-dataframe-output');\">See Full Dataframe in Mito</div> <script> if (window.commands.hasCommand('create-mitosheet-from-dataframe-output')) document.getElementById('da6ff2d1-0478-4593-a0d1-2563f2beb82e').style.display = 'flex' </script> <table border=\"1\" class=\"dataframe\">\n",
       "  <thead>\n",
       "    <tr style=\"text-align: right;\">\n",
       "      <th></th>\n",
       "      <th>count</th>\n",
       "      <th>proba</th>\n",
       "    </tr>\n",
       "  </thead>\n",
       "  <tbody>\n",
       "    <tr>\n",
       "      <th>v1</th>\n",
       "      <td>13742</td>\n",
       "      <td>0.983116</td>\n",
       "    </tr>\n",
       "    <tr>\n",
       "      <th>NaN</th>\n",
       "      <td>233</td>\n",
       "      <td>0.016669</td>\n",
       "    </tr>\n",
       "    <tr>\n",
       "      <th>v1items</th>\n",
       "      <td>2</td>\n",
       "      <td>0.000143</td>\n",
       "    </tr>\n",
       "    <tr>\n",
       "      <th>V1</th>\n",
       "      <td>1</td>\n",
       "      <td>0.000072</td>\n",
       "    </tr>\n",
       "  </tbody>\n",
       "</table></div>"
      ],
      "text/plain": [
       "         count     proba\n",
       "v1       13742  0.983116\n",
       "NaN        233  0.016669\n",
       "v1items      2  0.000143\n",
       "V1           1  0.000072"
      ]
     },
     "execution_count": 56,
     "metadata": {},
     "output_type": "execute_result"
    }
   ],
   "source": [
    "path2_df = value_counts_and_frequencies(df.path_2)\n",
    "path2_df.head(10)"
   ]
  },
  {
   "cell_type": "code",
   "execution_count": 87,
   "id": "9d9a45f4-52b4-4380-affb-14cbb904d4f8",
   "metadata": {},
   "outputs": [],
   "source": [
    "v1 = offender[offender.path_2 == 'v1']\n",
    "offender2 = v1[v1.status_code != '200']"
   ]
  },
  {
   "cell_type": "code",
   "execution_count": 88,
   "id": "e0d9cd5d-0e56-4258-a2f3-1429230495c6",
   "metadata": {},
   "outputs": [
    {
     "data": {
      "text/plain": [
       "(18, 15)"
      ]
     },
     "execution_count": 88,
     "metadata": {},
     "output_type": "execute_result"
    }
   ],
   "source": [
    "offender2.shape\n",
    "# still have all of them"
   ]
  },
  {
   "cell_type": "code",
   "execution_count": 57,
   "id": "ea7ffe45-4957-45c2-9ea6-1fdd23e5f96b",
   "metadata": {},
   "outputs": [
    {
     "data": {
      "text/html": [
       "<div><div id=1442b03b-9672-40d7-91cf-e7ba1081709b style=\"display:none; background-color:#9D6CFF; color:white; width:200px; height:30px; padding-left:5px; border-radius:4px; flex-direction:row; justify-content:space-around; align-items:center;\" onmouseover=\"this.style.backgroundColor='#BA9BF8'\" onmouseout=\"this.style.backgroundColor='#9D6CFF'\" onclick=\"window.commands?.execute('create-mitosheet-from-dataframe-output');\">See Full Dataframe in Mito</div> <script> if (window.commands.hasCommand('create-mitosheet-from-dataframe-output')) document.getElementById('1442b03b-9672-40d7-91cf-e7ba1081709b').style.display = 'flex' </script> <table border=\"1\" class=\"dataframe\">\n",
       "  <thead>\n",
       "    <tr style=\"text-align: right;\">\n",
       "      <th></th>\n",
       "      <th>count</th>\n",
       "      <th>proba</th>\n",
       "    </tr>\n",
       "  </thead>\n",
       "  <tbody>\n",
       "    <tr>\n",
       "      <th>sales?page=2</th>\n",
       "      <td>709</td>\n",
       "      <td>0.050723</td>\n",
       "    </tr>\n",
       "    <tr>\n",
       "      <th>items</th>\n",
       "      <td>477</td>\n",
       "      <td>0.034125</td>\n",
       "    </tr>\n",
       "    <tr>\n",
       "      <th>items?page=2</th>\n",
       "      <td>291</td>\n",
       "      <td>0.020818</td>\n",
       "    </tr>\n",
       "    <tr>\n",
       "      <th>NaN</th>\n",
       "      <td>236</td>\n",
       "      <td>0.016884</td>\n",
       "    </tr>\n",
       "    <tr>\n",
       "      <th>items?page=3</th>\n",
       "      <td>219</td>\n",
       "      <td>0.015667</td>\n",
       "    </tr>\n",
       "    <tr>\n",
       "      <th>stores</th>\n",
       "      <td>162</td>\n",
       "      <td>0.011590</td>\n",
       "    </tr>\n",
       "    <tr>\n",
       "      <th>sales</th>\n",
       "      <td>155</td>\n",
       "      <td>0.011089</td>\n",
       "    </tr>\n",
       "    <tr>\n",
       "      <th>sales?page=3</th>\n",
       "      <td>91</td>\n",
       "      <td>0.006510</td>\n",
       "    </tr>\n",
       "    <tr>\n",
       "      <th>items?page=1</th>\n",
       "      <td>88</td>\n",
       "      <td>0.006296</td>\n",
       "    </tr>\n",
       "    <tr>\n",
       "      <th>sales?page=5</th>\n",
       "      <td>83</td>\n",
       "      <td>0.005938</td>\n",
       "    </tr>\n",
       "  </tbody>\n",
       "</table></div>"
      ],
      "text/plain": [
       "              count     proba\n",
       "sales?page=2    709  0.050723\n",
       "items           477  0.034125\n",
       "items?page=2    291  0.020818\n",
       "NaN             236  0.016884\n",
       "items?page=3    219  0.015667\n",
       "stores          162  0.011590\n",
       "sales           155  0.011089\n",
       "sales?page=3     91  0.006510\n",
       "items?page=1     88  0.006296\n",
       "sales?page=5     83  0.005938"
      ]
     },
     "execution_count": 57,
     "metadata": {},
     "output_type": "execute_result"
    }
   ],
   "source": [
    "path3_df = value_counts_and_frequencies(df.path_3)\n",
    "path3_df.head(10)"
   ]
  },
  {
   "cell_type": "code",
   "execution_count": 92,
   "id": "6a4a6153-21fc-4905-ba61-77bc2b17dfeb",
   "metadata": {},
   "outputs": [],
   "source": [
    "salespage2 = offender2[offender2.path_3 == 'sales?page=2']\n",
    "off3_1 = salespage2[salespage2.status_code != '200']\n",
    "# this found 3 errors"
   ]
  },
  {
   "cell_type": "code",
   "execution_count": 94,
   "id": "454ba575-62af-4e26-82cd-6b54b2b6c88e",
   "metadata": {},
   "outputs": [
    {
     "data": {
      "text/html": [
       "<div><div id=bd44c5a7-a93a-44aa-813c-c71a7756b681 style=\"display:none; background-color:#9D6CFF; color:white; width:200px; height:30px; padding-left:5px; border-radius:4px; flex-direction:row; justify-content:space-around; align-items:center;\" onmouseover=\"this.style.backgroundColor='#BA9BF8'\" onmouseout=\"this.style.backgroundColor='#9D6CFF'\" onclick=\"window.commands?.execute('create-mitosheet-from-dataframe-output');\">See Full Dataframe in Mito</div> <script> if (window.commands.hasCommand('create-mitosheet-from-dataframe-output')) document.getElementById('bd44c5a7-a93a-44aa-813c-c71a7756b681').style.display = 'flex' </script> <table border=\"1\" class=\"dataframe\">\n",
       "  <thead>\n",
       "    <tr style=\"text-align: right;\">\n",
       "      <th></th>\n",
       "      <th>ip</th>\n",
       "      <th>request_method</th>\n",
       "      <th>request_path</th>\n",
       "      <th>http_version</th>\n",
       "      <th>status_code</th>\n",
       "      <th>size</th>\n",
       "      <th>user_agent</th>\n",
       "      <th>size_mb</th>\n",
       "      <th>path_1</th>\n",
       "      <th>path_2</th>\n",
       "      <th>path_3</th>\n",
       "      <th>path_4</th>\n",
       "      <th>path_5</th>\n",
       "      <th>path_6</th>\n",
       "      <th>7</th>\n",
       "    </tr>\n",
       "    <tr>\n",
       "      <th>timestamp</th>\n",
       "      <th></th>\n",
       "      <th></th>\n",
       "      <th></th>\n",
       "      <th></th>\n",
       "      <th></th>\n",
       "      <th></th>\n",
       "      <th></th>\n",
       "      <th></th>\n",
       "      <th></th>\n",
       "      <th></th>\n",
       "      <th></th>\n",
       "      <th></th>\n",
       "      <th></th>\n",
       "      <th></th>\n",
       "      <th></th>\n",
       "    </tr>\n",
       "  </thead>\n",
       "  <tbody>\n",
       "    <tr>\n",
       "      <th>2019-04-16 20:38:13</th>\n",
       "      <td>97.105.19.58</td>\n",
       "      <td>GET</td>\n",
       "      <td>/api/v1/items</td>\n",
       "      <td>HTTP/1.1</td>\n",
       "      <td>499</td>\n",
       "      <td>0</td>\n",
       "      <td>python-requests/2.21.0</td>\n",
       "      <td>0.0</td>\n",
       "      <td>api</td>\n",
       "      <td>v1</td>\n",
       "      <td>items</td>\n",
       "      <td>None</td>\n",
       "      <td>None</td>\n",
       "      <td>None</td>\n",
       "      <td>None</td>\n",
       "    </tr>\n",
       "    <tr>\n",
       "      <th>2019-04-16 20:38:55</th>\n",
       "      <td>97.105.19.58</td>\n",
       "      <td>GET</td>\n",
       "      <td>/api/v1/items</td>\n",
       "      <td>HTTP/1.1</td>\n",
       "      <td>499</td>\n",
       "      <td>0</td>\n",
       "      <td>python-requests/2.21.0</td>\n",
       "      <td>0.0</td>\n",
       "      <td>api</td>\n",
       "      <td>v1</td>\n",
       "      <td>items</td>\n",
       "      <td>None</td>\n",
       "      <td>None</td>\n",
       "      <td>None</td>\n",
       "      <td>None</td>\n",
       "    </tr>\n",
       "    <tr>\n",
       "      <th>2019-04-16 20:39:00</th>\n",
       "      <td>97.105.19.58</td>\n",
       "      <td>GET</td>\n",
       "      <td>/api/v1/items</td>\n",
       "      <td>HTTP/1.1</td>\n",
       "      <td>499</td>\n",
       "      <td>0</td>\n",
       "      <td>python-requests/2.21.0</td>\n",
       "      <td>0.0</td>\n",
       "      <td>api</td>\n",
       "      <td>v1</td>\n",
       "      <td>items</td>\n",
       "      <td>None</td>\n",
       "      <td>None</td>\n",
       "      <td>None</td>\n",
       "      <td>None</td>\n",
       "    </tr>\n",
       "    <tr>\n",
       "      <th>2019-04-16 20:45:17</th>\n",
       "      <td>97.105.19.58</td>\n",
       "      <td>GET</td>\n",
       "      <td>/api/v1/items</td>\n",
       "      <td>HTTP/1.1</td>\n",
       "      <td>499</td>\n",
       "      <td>0</td>\n",
       "      <td>python-requests/2.21.0</td>\n",
       "      <td>0.0</td>\n",
       "      <td>api</td>\n",
       "      <td>v1</td>\n",
       "      <td>items</td>\n",
       "      <td>None</td>\n",
       "      <td>None</td>\n",
       "      <td>None</td>\n",
       "      <td>None</td>\n",
       "    </tr>\n",
       "  </tbody>\n",
       "</table></div>"
      ],
      "text/plain": [
       "                               ip request_method   request_path http_version  \\\n",
       "timestamp                                                                      \n",
       "2019-04-16 20:38:13  97.105.19.58            GET  /api/v1/items     HTTP/1.1   \n",
       "2019-04-16 20:38:55  97.105.19.58            GET  /api/v1/items     HTTP/1.1   \n",
       "2019-04-16 20:39:00  97.105.19.58            GET  /api/v1/items     HTTP/1.1   \n",
       "2019-04-16 20:45:17  97.105.19.58            GET  /api/v1/items     HTTP/1.1   \n",
       "\n",
       "                    status_code  size              user_agent  size_mb path_1  \\\n",
       "timestamp                                                                       \n",
       "2019-04-16 20:38:13         499     0  python-requests/2.21.0      0.0    api   \n",
       "2019-04-16 20:38:55         499     0  python-requests/2.21.0      0.0    api   \n",
       "2019-04-16 20:39:00         499     0  python-requests/2.21.0      0.0    api   \n",
       "2019-04-16 20:45:17         499     0  python-requests/2.21.0      0.0    api   \n",
       "\n",
       "                    path_2 path_3 path_4 path_5 path_6     7  \n",
       "timestamp                                                     \n",
       "2019-04-16 20:38:13     v1  items   None   None   None  None  \n",
       "2019-04-16 20:38:55     v1  items   None   None   None  None  \n",
       "2019-04-16 20:39:00     v1  items   None   None   None  None  \n",
       "2019-04-16 20:45:17     v1  items   None   None   None  None  "
      ]
     },
     "execution_count": 94,
     "metadata": {},
     "output_type": "execute_result"
    }
   ],
   "source": [
    "items1 = offender2[offender2.path_3 == 'items']\n",
    "off3_2 = items1[items1.status_code != '200']\n",
    "# this spotted 4 errors. 11 remain. \n",
    "# ultimately the fastest way to do this would be to just read the entire pathname among the target group"
   ]
  },
  {
   "cell_type": "code",
   "execution_count": 96,
   "id": "560fd40f-baf3-447e-a0e4-8c64572453eb",
   "metadata": {},
   "outputs": [],
   "source": [
    "target = df[df.status_code != '200']"
   ]
  },
  {
   "cell_type": "code",
   "execution_count": 98,
   "id": "8da223a8-a121-4c06-9038-cbfa54c0566e",
   "metadata": {},
   "outputs": [],
   "source": [
    "failed_paths = target.request_path.value_counts()\n",
    "# there are only two cases where the request_path extends beyond the third forward slash. \n",
    "# I'll figure out which two those are just for the sake of completion. "
   ]
  },
  {
   "cell_type": "code",
   "execution_count": 99,
   "id": "b6989e5c-7247-4b0a-b427-fa06d3d38cf6",
   "metadata": {},
   "outputs": [
    {
     "data": {
      "text/plain": [
       "/api/v1/items             4\n",
       "/api/v1/sales?page=2      3\n",
       "/api/v1/sales?page=79/    2\n",
       "/api/v1/sales?page=21     1\n",
       "/api/v1/sales?page=29     1\n",
       "/api/v1/sales?page=115    1\n",
       "/api/v1/sales?page=47     1\n",
       "/api/v1/sales?page=25     1\n",
       "/api/v1/sales?page=80     1\n",
       "/api/v1/sales?page=69     1\n",
       "/api/v1/sales?page=8      1\n",
       "/api/v1/sales?page=133    1\n",
       "Name: request_path, dtype: int64"
      ]
     },
     "execution_count": 99,
     "metadata": {},
     "output_type": "execute_result"
    }
   ],
   "source": [
    "failed_paths"
   ]
  },
  {
   "cell_type": "code",
   "execution_count": 58,
   "id": "6d148b76-48a9-4cf8-ac74-04b901843be2",
   "metadata": {},
   "outputs": [
    {
     "data": {
      "text/html": [
       "<div><div id=bcc584e9-d85c-471b-a733-0566feddfc15 style=\"display:none; background-color:#9D6CFF; color:white; width:200px; height:30px; padding-left:5px; border-radius:4px; flex-direction:row; justify-content:space-around; align-items:center;\" onmouseover=\"this.style.backgroundColor='#BA9BF8'\" onmouseout=\"this.style.backgroundColor='#9D6CFF'\" onclick=\"window.commands?.execute('create-mitosheet-from-dataframe-output');\">See Full Dataframe in Mito</div> <script> if (window.commands.hasCommand('create-mitosheet-from-dataframe-output')) document.getElementById('bcc584e9-d85c-471b-a733-0566feddfc15').style.display = 'flex' </script> <table border=\"1\" class=\"dataframe\">\n",
       "  <thead>\n",
       "    <tr style=\"text-align: right;\">\n",
       "      <th></th>\n",
       "      <th>count</th>\n",
       "      <th>proba</th>\n",
       "    </tr>\n",
       "  </thead>\n",
       "  <tbody>\n",
       "    <tr>\n",
       "      <th>NaN</th>\n",
       "      <td>13947</td>\n",
       "      <td>0.997782</td>\n",
       "    </tr>\n",
       "    <tr>\n",
       "      <th>api</th>\n",
       "      <td>19</td>\n",
       "      <td>0.001359</td>\n",
       "    </tr>\n",
       "    <tr>\n",
       "      <th>next_page</th>\n",
       "      <td>5</td>\n",
       "      <td>0.000358</td>\n",
       "    </tr>\n",
       "    <tr>\n",
       "      <th></th>\n",
       "      <td>4</td>\n",
       "      <td>0.000286</td>\n",
       "    </tr>\n",
       "    <tr>\n",
       "      <th>?page=2</th>\n",
       "      <td>3</td>\n",
       "      <td>0.000215</td>\n",
       "    </tr>\n",
       "  </tbody>\n",
       "</table></div>"
      ],
      "text/plain": [
       "           count     proba\n",
       "NaN        13947  0.997782\n",
       "api           19  0.001359\n",
       "next_page      5  0.000358\n",
       "               4  0.000286\n",
       "?page=2        3  0.000215"
      ]
     },
     "execution_count": 58,
     "metadata": {},
     "output_type": "execute_result"
    }
   ],
   "source": [
    "path4_df = value_counts_and_frequencies(df.path_4)\n",
    "path4_df.head(10)\n",
    "# the blank spaces are really curious to me"
   ]
  },
  {
   "cell_type": "code",
   "execution_count": 102,
   "id": "8cd14db3-e3ff-4be2-88c4-3a7f5d6c6dd7",
   "metadata": {},
   "outputs": [
    {
     "data": {
      "text/html": [
       "<div><div id=d68780c0-72cf-4ea9-a1da-18dbd83ca021 style=\"display:none; background-color:#9D6CFF; color:white; width:200px; height:30px; padding-left:5px; border-radius:4px; flex-direction:row; justify-content:space-around; align-items:center;\" onmouseover=\"this.style.backgroundColor='#BA9BF8'\" onmouseout=\"this.style.backgroundColor='#9D6CFF'\" onclick=\"window.commands?.execute('create-mitosheet-from-dataframe-output');\">See Full Dataframe in Mito</div> <script> if (window.commands.hasCommand('create-mitosheet-from-dataframe-output')) document.getElementById('d68780c0-72cf-4ea9-a1da-18dbd83ca021').style.display = 'flex' </script> <table border=\"1\" class=\"dataframe\">\n",
       "  <thead>\n",
       "    <tr style=\"text-align: right;\">\n",
       "      <th></th>\n",
       "      <th>ip</th>\n",
       "      <th>request_method</th>\n",
       "      <th>request_path</th>\n",
       "      <th>http_version</th>\n",
       "      <th>status_code</th>\n",
       "      <th>size</th>\n",
       "      <th>user_agent</th>\n",
       "      <th>size_mb</th>\n",
       "      <th>path_1</th>\n",
       "      <th>path_2</th>\n",
       "      <th>path_3</th>\n",
       "      <th>path_4</th>\n",
       "      <th>path_5</th>\n",
       "      <th>path_6</th>\n",
       "      <th>7</th>\n",
       "    </tr>\n",
       "    <tr>\n",
       "      <th>timestamp</th>\n",
       "      <th></th>\n",
       "      <th></th>\n",
       "      <th></th>\n",
       "      <th></th>\n",
       "      <th></th>\n",
       "      <th></th>\n",
       "      <th></th>\n",
       "      <th></th>\n",
       "      <th></th>\n",
       "      <th></th>\n",
       "      <th></th>\n",
       "      <th></th>\n",
       "      <th></th>\n",
       "      <th></th>\n",
       "      <th></th>\n",
       "    </tr>\n",
       "  </thead>\n",
       "  <tbody>\n",
       "    <tr>\n",
       "      <th>2019-04-17 19:36:41</th>\n",
       "      <td>95.31.16.121</td>\n",
       "      <td>GET</td>\n",
       "      <td>/api/v1/sales?page=79/</td>\n",
       "      <td>HTTP/1.1</td>\n",
       "      <td>301</td>\n",
       "      <td>1005</td>\n",
       "      <td>python-requests/2.21.0</td>\n",
       "      <td>0.000958</td>\n",
       "      <td>api</td>\n",
       "      <td>v1</td>\n",
       "      <td>sales?page=79</td>\n",
       "      <td></td>\n",
       "      <td>None</td>\n",
       "      <td>None</td>\n",
       "      <td>None</td>\n",
       "    </tr>\n",
       "    <tr>\n",
       "      <th>2019-04-18 19:42:41</th>\n",
       "      <td>97.105.15.120</td>\n",
       "      <td>GET</td>\n",
       "      <td>/api/v1/sales?page=79/</td>\n",
       "      <td>HTTP/1.1</td>\n",
       "      <td>301</td>\n",
       "      <td>2560</td>\n",
       "      <td>python-requests/2.21.0</td>\n",
       "      <td>0.002441</td>\n",
       "      <td>api</td>\n",
       "      <td>v1</td>\n",
       "      <td>sales?page=79</td>\n",
       "      <td></td>\n",
       "      <td>None</td>\n",
       "      <td>None</td>\n",
       "      <td>None</td>\n",
       "    </tr>\n",
       "  </tbody>\n",
       "</table></div>"
      ],
      "text/plain": [
       "                                ip request_method            request_path  \\\n",
       "timestamp                                                                   \n",
       "2019-04-17 19:36:41   95.31.16.121            GET  /api/v1/sales?page=79/   \n",
       "2019-04-18 19:42:41  97.105.15.120            GET  /api/v1/sales?page=79/   \n",
       "\n",
       "                    http_version status_code  size              user_agent  \\\n",
       "timestamp                                                                    \n",
       "2019-04-17 19:36:41     HTTP/1.1         301  1005  python-requests/2.21.0   \n",
       "2019-04-18 19:42:41     HTTP/1.1         301  2560  python-requests/2.21.0   \n",
       "\n",
       "                      size_mb path_1 path_2         path_3 path_4 path_5  \\\n",
       "timestamp                                                                  \n",
       "2019-04-17 19:36:41  0.000958    api     v1  sales?page=79          None   \n",
       "2019-04-18 19:42:41  0.002441    api     v1  sales?page=79          None   \n",
       "\n",
       "                    path_6     7  \n",
       "timestamp                         \n",
       "2019-04-17 19:36:41   None  None  \n",
       "2019-04-18 19:42:41   None  None  "
      ]
     },
     "execution_count": 102,
     "metadata": {},
     "output_type": "execute_result"
    }
   ],
   "source": [
    "offender2[offender2.path_4 == '']\n",
    "# so when the fourth forward slash is followed by a blank space, there are 301 status codes.\n",
    "# at least in two instances. "
   ]
  },
  {
   "cell_type": "code",
   "execution_count": 59,
   "id": "10c6b15c-ae2a-4bad-9993-2c9103b5a011",
   "metadata": {},
   "outputs": [
    {
     "data": {
      "text/html": [
       "<div><div id=d53d87e5-fa8b-4d88-8a03-4360104ff232 style=\"display:none; background-color:#9D6CFF; color:white; width:200px; height:30px; padding-left:5px; border-radius:4px; flex-direction:row; justify-content:space-around; align-items:center;\" onmouseover=\"this.style.backgroundColor='#BA9BF8'\" onmouseout=\"this.style.backgroundColor='#9D6CFF'\" onclick=\"window.commands?.execute('create-mitosheet-from-dataframe-output');\">See Full Dataframe in Mito</div> <script> if (window.commands.hasCommand('create-mitosheet-from-dataframe-output')) document.getElementById('d53d87e5-fa8b-4d88-8a03-4360104ff232').style.display = 'flex' </script> <table border=\"1\" class=\"dataframe\">\n",
       "  <thead>\n",
       "    <tr style=\"text-align: right;\">\n",
       "      <th></th>\n",
       "      <th>count</th>\n",
       "      <th>proba</th>\n",
       "    </tr>\n",
       "  </thead>\n",
       "  <tbody>\n",
       "    <tr>\n",
       "      <th>NaN</th>\n",
       "      <td>13959</td>\n",
       "      <td>0.998641</td>\n",
       "    </tr>\n",
       "    <tr>\n",
       "      <th>v1</th>\n",
       "      <td>19</td>\n",
       "      <td>0.001359</td>\n",
       "    </tr>\n",
       "  </tbody>\n",
       "</table></div>"
      ],
      "text/plain": [
       "     count     proba\n",
       "NaN  13959  0.998641\n",
       "v1      19  0.001359"
      ]
     },
     "execution_count": 59,
     "metadata": {},
     "output_type": "execute_result"
    }
   ],
   "source": [
    "path5_df = value_counts_and_frequencies(df.path_5)\n",
    "path5_df.head(10)"
   ]
  },
  {
   "cell_type": "code",
   "execution_count": 62,
   "id": "eb9d6987-ca23-4ace-a61a-8f099a66aab8",
   "metadata": {},
   "outputs": [
    {
     "data": {
      "text/html": [
       "<div><div id=9056fb60-1845-459c-b9f3-0830a8f644f6 style=\"display:none; background-color:#9D6CFF; color:white; width:200px; height:30px; padding-left:5px; border-radius:4px; flex-direction:row; justify-content:space-around; align-items:center;\" onmouseover=\"this.style.backgroundColor='#BA9BF8'\" onmouseout=\"this.style.backgroundColor='#9D6CFF'\" onclick=\"window.commands?.execute('create-mitosheet-from-dataframe-output');\">See Full Dataframe in Mito</div> <script> if (window.commands.hasCommand('create-mitosheet-from-dataframe-output')) document.getElementById('9056fb60-1845-459c-b9f3-0830a8f644f6').style.display = 'flex' </script> <table border=\"1\" class=\"dataframe\">\n",
       "  <thead>\n",
       "    <tr style=\"text-align: right;\">\n",
       "      <th></th>\n",
       "      <th>count</th>\n",
       "      <th>proba</th>\n",
       "    </tr>\n",
       "  </thead>\n",
       "  <tbody>\n",
       "    <tr>\n",
       "      <th>NaN</th>\n",
       "      <td>13959</td>\n",
       "      <td>0.998641</td>\n",
       "    </tr>\n",
       "    <tr>\n",
       "      <th>items?page=2</th>\n",
       "      <td>16</td>\n",
       "      <td>0.001145</td>\n",
       "    </tr>\n",
       "    <tr>\n",
       "      <th>items</th>\n",
       "      <td>2</td>\n",
       "      <td>0.000143</td>\n",
       "    </tr>\n",
       "    <tr>\n",
       "      <th>items?page=3</th>\n",
       "      <td>1</td>\n",
       "      <td>0.000072</td>\n",
       "    </tr>\n",
       "  </tbody>\n",
       "</table></div>"
      ],
      "text/plain": [
       "              count     proba\n",
       "NaN           13959  0.998641\n",
       "items?page=2     16  0.001145\n",
       "items             2  0.000143\n",
       "items?page=3      1  0.000072"
      ]
     },
     "execution_count": 62,
     "metadata": {},
     "output_type": "execute_result"
    }
   ],
   "source": [
    "path6_df = value_counts_and_frequencies(df.path_6)\n",
    "path6_df.head(10)"
   ]
  },
  {
   "cell_type": "code",
   "execution_count": 63,
   "id": "7c52aad3-6255-4152-bbad-c9186acf468a",
   "metadata": {},
   "outputs": [
    {
     "data": {
      "text/html": [
       "<div><div id=fbdae4bb-c0ad-4744-b96e-3869fb9f9ba3 style=\"display:none; background-color:#9D6CFF; color:white; width:200px; height:30px; padding-left:5px; border-radius:4px; flex-direction:row; justify-content:space-around; align-items:center;\" onmouseover=\"this.style.backgroundColor='#BA9BF8'\" onmouseout=\"this.style.backgroundColor='#9D6CFF'\" onclick=\"window.commands?.execute('create-mitosheet-from-dataframe-output');\">See Full Dataframe in Mito</div> <script> if (window.commands.hasCommand('create-mitosheet-from-dataframe-output')) document.getElementById('fbdae4bb-c0ad-4744-b96e-3869fb9f9ba3').style.display = 'flex' </script> <table border=\"1\" class=\"dataframe\">\n",
       "  <thead>\n",
       "    <tr style=\"text-align: right;\">\n",
       "      <th></th>\n",
       "      <th>count</th>\n",
       "      <th>proba</th>\n",
       "    </tr>\n",
       "    <tr>\n",
       "      <th>7</th>\n",
       "      <th></th>\n",
       "      <th></th>\n",
       "    </tr>\n",
       "  </thead>\n",
       "  <tbody>\n",
       "    <tr>\n",
       "      <th>NaN</th>\n",
       "      <td>13977</td>\n",
       "      <td>0.999928</td>\n",
       "    </tr>\n",
       "    <tr>\n",
       "      <th>next_page</th>\n",
       "      <td>1</td>\n",
       "      <td>0.000072</td>\n",
       "    </tr>\n",
       "  </tbody>\n",
       "</table></div>"
      ],
      "text/plain": [
       "           count     proba\n",
       "7                         \n",
       "NaN        13977  0.999928\n",
       "next_page      1  0.000072"
      ]
     },
     "execution_count": 63,
     "metadata": {},
     "output_type": "execute_result"
    }
   ],
   "source": [
    "path7_df = value_counts_and_frequencies(df[[7]])\n",
    "path7_df.head(10)"
   ]
  },
  {
   "cell_type": "code",
   "execution_count": null,
   "id": "739bf046-6e7b-45ae-baa6-87cf4153b2e2",
   "metadata": {},
   "outputs": [],
   "source": [
    "# prob(A|B) = prob(A & B)/prob(B)"
   ]
  },
  {
   "cell_type": "code",
   "execution_count": 103,
   "id": "de7a938e-92fb-4b10-ba7d-c2035fed2f73",
   "metadata": {},
   "outputs": [
    {
     "data": {
      "text/plain": [
       "path_3             status_code\n",
       "                   200            0.001145\n",
       "HiZach!            200            0.000072\n",
       "I_DIDNT_DO_IT!!!!  200            0.000072\n",
       "helloclass!        200            0.000072\n",
       "items              200            0.033839\n",
       "                                    ...   \n",
       "stores?page=183    200            0.000143\n",
       "stores?page=2      200            0.000072\n",
       "stores?page=3      200            0.000286\n",
       "stores?page=666    200            0.000072\n",
       "stores?page=999    200            0.000072\n",
       "Length: 218, dtype: float64"
      ]
     },
     "execution_count": 103,
     "metadata": {},
     "output_type": "execute_result"
    }
   ],
   "source": [
    "df.groupby(['path_3', 'status_code']).size()/len(df)"
   ]
  },
  {
   "cell_type": "code",
   "execution_count": null,
   "id": "530bf1b6-8a12-4d08-b7ae-6c24045a626d",
   "metadata": {},
   "outputs": [],
   "source": []
  }
 ],
 "metadata": {
  "kernelspec": {
   "display_name": "Python 3 (ipykernel)",
   "language": "python",
   "name": "python3"
  },
  "language_info": {
   "codemirror_mode": {
    "name": "ipython",
    "version": 3
   },
   "file_extension": ".py",
   "mimetype": "text/x-python",
   "name": "python",
   "nbconvert_exporter": "python",
   "pygments_lexer": "ipython3",
   "version": "3.9.7"
  }
 },
 "nbformat": 4,
 "nbformat_minor": 5
}
