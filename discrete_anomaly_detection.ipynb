{
 "cells": [
  {
   "cell_type": "code",
   "execution_count": 1,
   "id": "9453ac9b",
   "metadata": {},
   "outputs": [],
   "source": [
    "from __future__ import division\n",
    "import itertools\n",
    "import warnings\n",
    "warnings.filterwarnings(\"ignore\")\n",
    "import matplotlib.pyplot as plt\n",
    "import matplotlib.dates as mdates\n",
    "import numpy as np\n",
    "import pandas as pd\n",
    "import math\n",
    "from sklearn import metrics\n",
    "from random import randint\n",
    "from matplotlib import style\n",
    "import seaborn as sns\n",
    "%matplotlib inline\n",
    "import env"
   ]
  },
  {
   "cell_type": "markdown",
   "id": "a548c8c1",
   "metadata": {},
   "source": [
    "Use basic probability to identify anomalous requests. Using the methods covered in [this lesson](https://ds.codeup.com/anomaly-detection/discrete-probabilistic-methods/), examine the rest of the features in the api access logs data set.\n",
    "\n",
    "Key points from the lesson\n",
    "* When you have a variable that is not too noisy, you can have a baseline probability, then as new datapoints come in you can identify and compare the actual rate with the expected rate (probability).\n",
    "\n",
    "- To detect anomalies in discrete variables we can look at two ways of summarizing the variable:\n",
    "\n",
    "    - count: the number of times each unique value appears in the dataset\n",
    "    - frequencies: the number of times each unique value appears in the dataset as a percentage of the total; the count divided by the total number of observations\n",
    "        - Both of the above can be found with the .value_counts method.\n",
    "        \n",
    "I'll start by duplicating and procedurally re-iterating much of what was done in the lesson/textbook. "
   ]
  },
  {
   "cell_type": "code",
   "execution_count": 2,
   "id": "b30795b0",
   "metadata": {},
   "outputs": [
    {
     "data": {
      "text/html": [
       "<div><div id=862e6e4f-bb81-4f87-a013-0cb5c4f279da style=\"display:none; background-color:#9D6CFF; color:white; width:200px; height:30px; padding-left:5px; border-radius:4px; flex-direction:row; justify-content:space-around; align-items:center;\" onmouseover=\"this.style.backgroundColor='#BA9BF8'\" onmouseout=\"this.style.backgroundColor='#9D6CFF'\" onclick=\"window.commands?.execute('create-mitosheet-from-dataframe-output');\">See Full Dataframe in Mito</div> <script> if (window.commands.hasCommand('create-mitosheet-from-dataframe-output')) document.getElementById('862e6e4f-bb81-4f87-a013-0cb5c4f279da').style.display = 'flex' </script> <table border=\"1\" class=\"dataframe\">\n",
       "  <thead>\n",
       "    <tr style=\"text-align: right;\">\n",
       "      <th></th>\n",
       "      <th>ip</th>\n",
       "      <th>timestamp</th>\n",
       "      <th>request_method</th>\n",
       "      <th>request_path</th>\n",
       "      <th>http_version</th>\n",
       "      <th>status_code</th>\n",
       "      <th>size</th>\n",
       "      <th>user_agent</th>\n",
       "    </tr>\n",
       "  </thead>\n",
       "  <tbody>\n",
       "    <tr>\n",
       "      <th>0</th>\n",
       "      <td>97.105.19.58</td>\n",
       "      <td>16/Apr/2019 19:34:42</td>\n",
       "      <td>GET</td>\n",
       "      <td>/api/v1/sales?page=81</td>\n",
       "      <td>HTTP/1.1</td>\n",
       "      <td>200</td>\n",
       "      <td>512495</td>\n",
       "      <td>python-requests/2.21.0</td>\n",
       "    </tr>\n",
       "    <tr>\n",
       "      <th>1</th>\n",
       "      <td>97.105.19.58</td>\n",
       "      <td>16/Apr/2019 19:34:42</td>\n",
       "      <td>GET</td>\n",
       "      <td>/api/v1/items</td>\n",
       "      <td>HTTP/1.1</td>\n",
       "      <td>200</td>\n",
       "      <td>3561</td>\n",
       "      <td>python-requests/2.21.0</td>\n",
       "    </tr>\n",
       "    <tr>\n",
       "      <th>2</th>\n",
       "      <td>97.105.19.58</td>\n",
       "      <td>16/Apr/2019 19:34:44</td>\n",
       "      <td>GET</td>\n",
       "      <td>/api/v1/sales?page=82</td>\n",
       "      <td>HTTP/1.1</td>\n",
       "      <td>200</td>\n",
       "      <td>510103</td>\n",
       "      <td>python-requests/2.21.0</td>\n",
       "    </tr>\n",
       "    <tr>\n",
       "      <th>3</th>\n",
       "      <td>97.105.19.58</td>\n",
       "      <td>16/Apr/2019 19:34:46</td>\n",
       "      <td>GET</td>\n",
       "      <td>/api/v1/sales?page=83</td>\n",
       "      <td>HTTP/1.1</td>\n",
       "      <td>200</td>\n",
       "      <td>510003</td>\n",
       "      <td>python-requests/2.21.0</td>\n",
       "    </tr>\n",
       "    <tr>\n",
       "      <th>4</th>\n",
       "      <td>97.105.19.58</td>\n",
       "      <td>16/Apr/2019 19:34:48</td>\n",
       "      <td>GET</td>\n",
       "      <td>/api/v1/sales?page=84</td>\n",
       "      <td>HTTP/1.1</td>\n",
       "      <td>200</td>\n",
       "      <td>511963</td>\n",
       "      <td>python-requests/2.21.0</td>\n",
       "    </tr>\n",
       "  </tbody>\n",
       "</table></div>"
      ],
      "text/plain": [
       "             ip             timestamp request_method           request_path  \\\n",
       "0  97.105.19.58  16/Apr/2019 19:34:42            GET  /api/v1/sales?page=81   \n",
       "1  97.105.19.58  16/Apr/2019 19:34:42            GET          /api/v1/items   \n",
       "2  97.105.19.58  16/Apr/2019 19:34:44            GET  /api/v1/sales?page=82   \n",
       "3  97.105.19.58  16/Apr/2019 19:34:46            GET  /api/v1/sales?page=83   \n",
       "4  97.105.19.58  16/Apr/2019 19:34:48            GET  /api/v1/sales?page=84   \n",
       "\n",
       "  http_version status_code    size              user_agent  \n",
       "0     HTTP/1.1         200  512495  python-requests/2.21.0  \n",
       "1     HTTP/1.1         200    3561  python-requests/2.21.0  \n",
       "2     HTTP/1.1         200  510103  python-requests/2.21.0  \n",
       "3     HTTP/1.1         200  510003  python-requests/2.21.0  \n",
       "4     HTTP/1.1         200  511963  python-requests/2.21.0  "
      ]
     },
     "execution_count": 2,
     "metadata": {},
     "output_type": "execute_result"
    }
   ],
   "source": [
    "# function to deal with parsing one entry in our log data\n",
    "def parse_log_entry(entry):\n",
    "    parts = entry.split()\n",
    "    output = {}\n",
    "    output['ip'] = parts[0]\n",
    "    output['timestamp'] = parts[3][1:].replace(':', ' ', 1)\n",
    "    output['request_method'] = parts[5][1:]\n",
    "    output['request_path'] = parts[6]\n",
    "    output['http_version'] = parts[7][:-1]\n",
    "    output['status_code'] = parts[8]\n",
    "    output['size'] = int(parts[9])\n",
    "    output['user_agent'] = ' '.join(parts[11:]).replace('\"', '')\n",
    "    return pd.Series(output)\n",
    "\n",
    "url = f'mysql+pymysql://{env.username}:{env.password}@{env.host}/logs'\n",
    "df = pd.read_sql('SELECT * FROM api_access', url)\n",
    "# df = pd.concat([df.entry, df.entry.apply(parse_log_entry)], axis=1)\n",
    "df = df.entry.apply(parse_log_entry)\n",
    "df.head()"
   ]
  },
  {
   "cell_type": "code",
   "execution_count": 3,
   "id": "48419990",
   "metadata": {},
   "outputs": [],
   "source": [
    "# synthetic records, appended to the existing data frame\n",
    "new = pd.DataFrame([\n",
    "    [\"95.31.18.119\", \"21/Apr/2019 10:02:41\", \"GET\", \"/api/v1/items/\", \"HTTP/1.1\", '200', 1153005, \"python-requests/2.21.0\"],\n",
    "    [\"95.31.16.121\", \"17/Apr/2019 19:36:41\", \"GET\", \"/api/v1/sales?page=79/\", \"HTTP/1.1\", '301', 1005, \"python-requests/2.21.0\"],\n",
    "    [\"97.105.15.120\", \"18/Apr/2019 19:42:41\", \"GET\", \"/api/v1/sales?page=79/\", \"HTTP/1.1\", '301', 2560, \"python-requests/2.21.0\"],\n",
    "    [\"97.105.19.58\", \"19/Apr/2019 19:42:41\", \"GET\", \"/api/v1/sales?page=79/\", \"HTTP/1.1\", '200', 2056327, \"python-requests/2.21.0\"],\n",
    "], columns=df.columns)\n",
    "\n",
    "df = df.append(new)\n"
   ]
  },
  {
   "cell_type": "code",
   "execution_count": 4,
   "id": "0df6eef4",
   "metadata": {},
   "outputs": [],
   "source": [
    "df['size_mb'] = df['size'] / 1024 / 1024\n",
    "df.timestamp = pd.to_datetime(df.timestamp)\n",
    "df = df.set_index('timestamp')"
   ]
  },
  {
   "cell_type": "code",
   "execution_count": 5,
   "id": "fd343b87",
   "metadata": {},
   "outputs": [
    {
     "data": {
      "text/html": [
       "<div><div id=7be62791-bb3c-4e14-929f-0668ca5337f7 style=\"display:none; background-color:#9D6CFF; color:white; width:200px; height:30px; padding-left:5px; border-radius:4px; flex-direction:row; justify-content:space-around; align-items:center;\" onmouseover=\"this.style.backgroundColor='#BA9BF8'\" onmouseout=\"this.style.backgroundColor='#9D6CFF'\" onclick=\"window.commands?.execute('create-mitosheet-from-dataframe-output');\">See Full Dataframe in Mito</div> <script> if (window.commands.hasCommand('create-mitosheet-from-dataframe-output')) document.getElementById('7be62791-bb3c-4e14-929f-0668ca5337f7').style.display = 'flex' </script> <table border=\"1\" class=\"dataframe\">\n",
       "  <thead>\n",
       "    <tr style=\"text-align: right;\">\n",
       "      <th></th>\n",
       "      <th>ip</th>\n",
       "      <th>request_method</th>\n",
       "      <th>request_path</th>\n",
       "      <th>http_version</th>\n",
       "      <th>status_code</th>\n",
       "      <th>size</th>\n",
       "      <th>user_agent</th>\n",
       "      <th>size_mb</th>\n",
       "    </tr>\n",
       "    <tr>\n",
       "      <th>timestamp</th>\n",
       "      <th></th>\n",
       "      <th></th>\n",
       "      <th></th>\n",
       "      <th></th>\n",
       "      <th></th>\n",
       "      <th></th>\n",
       "      <th></th>\n",
       "      <th></th>\n",
       "    </tr>\n",
       "  </thead>\n",
       "  <tbody>\n",
       "    <tr>\n",
       "      <th>2019-04-16 19:34:42</th>\n",
       "      <td>97.105.19.58</td>\n",
       "      <td>GET</td>\n",
       "      <td>/api/v1/sales?page=81</td>\n",
       "      <td>HTTP/1.1</td>\n",
       "      <td>200</td>\n",
       "      <td>512495</td>\n",
       "      <td>python-requests/2.21.0</td>\n",
       "      <td>0.488753</td>\n",
       "    </tr>\n",
       "    <tr>\n",
       "      <th>2019-04-16 19:34:42</th>\n",
       "      <td>97.105.19.58</td>\n",
       "      <td>GET</td>\n",
       "      <td>/api/v1/items</td>\n",
       "      <td>HTTP/1.1</td>\n",
       "      <td>200</td>\n",
       "      <td>3561</td>\n",
       "      <td>python-requests/2.21.0</td>\n",
       "      <td>0.003396</td>\n",
       "    </tr>\n",
       "    <tr>\n",
       "      <th>2019-04-16 19:34:44</th>\n",
       "      <td>97.105.19.58</td>\n",
       "      <td>GET</td>\n",
       "      <td>/api/v1/sales?page=82</td>\n",
       "      <td>HTTP/1.1</td>\n",
       "      <td>200</td>\n",
       "      <td>510103</td>\n",
       "      <td>python-requests/2.21.0</td>\n",
       "      <td>0.486472</td>\n",
       "    </tr>\n",
       "    <tr>\n",
       "      <th>2019-04-16 19:34:46</th>\n",
       "      <td>97.105.19.58</td>\n",
       "      <td>GET</td>\n",
       "      <td>/api/v1/sales?page=83</td>\n",
       "      <td>HTTP/1.1</td>\n",
       "      <td>200</td>\n",
       "      <td>510003</td>\n",
       "      <td>python-requests/2.21.0</td>\n",
       "      <td>0.486377</td>\n",
       "    </tr>\n",
       "    <tr>\n",
       "      <th>2019-04-16 19:34:48</th>\n",
       "      <td>97.105.19.58</td>\n",
       "      <td>GET</td>\n",
       "      <td>/api/v1/sales?page=84</td>\n",
       "      <td>HTTP/1.1</td>\n",
       "      <td>200</td>\n",
       "      <td>511963</td>\n",
       "      <td>python-requests/2.21.0</td>\n",
       "      <td>0.488246</td>\n",
       "    </tr>\n",
       "    <tr>\n",
       "      <th>...</th>\n",
       "      <td>...</td>\n",
       "      <td>...</td>\n",
       "      <td>...</td>\n",
       "      <td>...</td>\n",
       "      <td>...</td>\n",
       "      <td>...</td>\n",
       "      <td>...</td>\n",
       "      <td>...</td>\n",
       "    </tr>\n",
       "    <tr>\n",
       "      <th>2019-04-17 12:55:14</th>\n",
       "      <td>97.105.19.58</td>\n",
       "      <td>GET</td>\n",
       "      <td>/api/v1/sales?page=71</td>\n",
       "      <td>HTTP/1.1</td>\n",
       "      <td>200</td>\n",
       "      <td>510166</td>\n",
       "      <td>python-requests/2.21.0</td>\n",
       "      <td>0.486532</td>\n",
       "    </tr>\n",
       "    <tr>\n",
       "      <th>2019-04-21 10:02:41</th>\n",
       "      <td>95.31.18.119</td>\n",
       "      <td>GET</td>\n",
       "      <td>/api/v1/items/</td>\n",
       "      <td>HTTP/1.1</td>\n",
       "      <td>200</td>\n",
       "      <td>1153005</td>\n",
       "      <td>python-requests/2.21.0</td>\n",
       "      <td>1.099591</td>\n",
       "    </tr>\n",
       "    <tr>\n",
       "      <th>2019-04-17 19:36:41</th>\n",
       "      <td>95.31.16.121</td>\n",
       "      <td>GET</td>\n",
       "      <td>/api/v1/sales?page=79/</td>\n",
       "      <td>HTTP/1.1</td>\n",
       "      <td>301</td>\n",
       "      <td>1005</td>\n",
       "      <td>python-requests/2.21.0</td>\n",
       "      <td>0.000958</td>\n",
       "    </tr>\n",
       "    <tr>\n",
       "      <th>2019-04-18 19:42:41</th>\n",
       "      <td>97.105.15.120</td>\n",
       "      <td>GET</td>\n",
       "      <td>/api/v1/sales?page=79/</td>\n",
       "      <td>HTTP/1.1</td>\n",
       "      <td>301</td>\n",
       "      <td>2560</td>\n",
       "      <td>python-requests/2.21.0</td>\n",
       "      <td>0.002441</td>\n",
       "    </tr>\n",
       "    <tr>\n",
       "      <th>2019-04-19 19:42:41</th>\n",
       "      <td>97.105.19.58</td>\n",
       "      <td>GET</td>\n",
       "      <td>/api/v1/sales?page=79/</td>\n",
       "      <td>HTTP/1.1</td>\n",
       "      <td>200</td>\n",
       "      <td>2056327</td>\n",
       "      <td>python-requests/2.21.0</td>\n",
       "      <td>1.961066</td>\n",
       "    </tr>\n",
       "  </tbody>\n",
       "</table></div>"
      ],
      "text/plain": [
       "                                ip request_method            request_path  \\\n",
       "timestamp                                                                   \n",
       "2019-04-16 19:34:42   97.105.19.58            GET   /api/v1/sales?page=81   \n",
       "2019-04-16 19:34:42   97.105.19.58            GET           /api/v1/items   \n",
       "2019-04-16 19:34:44   97.105.19.58            GET   /api/v1/sales?page=82   \n",
       "2019-04-16 19:34:46   97.105.19.58            GET   /api/v1/sales?page=83   \n",
       "2019-04-16 19:34:48   97.105.19.58            GET   /api/v1/sales?page=84   \n",
       "...                            ...            ...                     ...   \n",
       "2019-04-17 12:55:14   97.105.19.58            GET   /api/v1/sales?page=71   \n",
       "2019-04-21 10:02:41   95.31.18.119            GET          /api/v1/items/   \n",
       "2019-04-17 19:36:41   95.31.16.121            GET  /api/v1/sales?page=79/   \n",
       "2019-04-18 19:42:41  97.105.15.120            GET  /api/v1/sales?page=79/   \n",
       "2019-04-19 19:42:41   97.105.19.58            GET  /api/v1/sales?page=79/   \n",
       "\n",
       "                    http_version status_code     size              user_agent  \\\n",
       "timestamp                                                                       \n",
       "2019-04-16 19:34:42     HTTP/1.1         200   512495  python-requests/2.21.0   \n",
       "2019-04-16 19:34:42     HTTP/1.1         200     3561  python-requests/2.21.0   \n",
       "2019-04-16 19:34:44     HTTP/1.1         200   510103  python-requests/2.21.0   \n",
       "2019-04-16 19:34:46     HTTP/1.1         200   510003  python-requests/2.21.0   \n",
       "2019-04-16 19:34:48     HTTP/1.1         200   511963  python-requests/2.21.0   \n",
       "...                          ...         ...      ...                     ...   \n",
       "2019-04-17 12:55:14     HTTP/1.1         200   510166  python-requests/2.21.0   \n",
       "2019-04-21 10:02:41     HTTP/1.1         200  1153005  python-requests/2.21.0   \n",
       "2019-04-17 19:36:41     HTTP/1.1         301     1005  python-requests/2.21.0   \n",
       "2019-04-18 19:42:41     HTTP/1.1         301     2560  python-requests/2.21.0   \n",
       "2019-04-19 19:42:41     HTTP/1.1         200  2056327  python-requests/2.21.0   \n",
       "\n",
       "                      size_mb  \n",
       "timestamp                      \n",
       "2019-04-16 19:34:42  0.488753  \n",
       "2019-04-16 19:34:42  0.003396  \n",
       "2019-04-16 19:34:44  0.486472  \n",
       "2019-04-16 19:34:46  0.486377  \n",
       "2019-04-16 19:34:48  0.488246  \n",
       "...                       ...  \n",
       "2019-04-17 12:55:14  0.486532  \n",
       "2019-04-21 10:02:41  1.099591  \n",
       "2019-04-17 19:36:41  0.000958  \n",
       "2019-04-18 19:42:41  0.002441  \n",
       "2019-04-19 19:42:41  1.961066  \n",
       "\n",
       "[13978 rows x 8 columns]"
      ]
     },
     "execution_count": 5,
     "metadata": {},
     "output_type": "execute_result"
    }
   ],
   "source": [
    "df"
   ]
  },
  {
   "cell_type": "code",
   "execution_count": 8,
   "id": "2e97fa37",
   "metadata": {},
   "outputs": [
    {
     "data": {
      "text/plain": [
       "97.105.19.58      11999\n",
       "173.173.113.51     1059\n",
       "72.181.113.170      613\n",
       "72.181.105.81       246\n",
       "68.201.219.223       21\n",
       "24.26.242.9          21\n",
       "35.175.171.137        2\n",
       "Name: ip, dtype: int64"
      ]
     },
     "execution_count": 8,
     "metadata": {},
     "output_type": "execute_result"
    }
   ],
   "source": [
    "# Check counts of ip addresses\n",
    "df.ip.value_counts().head(7)"
   ]
  },
  {
   "cell_type": "code",
   "execution_count": 9,
   "id": "3217bc86",
   "metadata": {},
   "outputs": [
    {
     "data": {
      "text/plain": [
       "97.105.19.58      0.858420\n",
       "173.173.113.51    0.075762\n",
       "72.181.113.170    0.043855\n",
       "72.181.105.81     0.017599\n",
       "68.201.219.223    0.001502\n",
       "24.26.242.9       0.001502\n",
       "35.175.171.137    0.000143\n",
       "Name: ip, dtype: float64"
      ]
     },
     "execution_count": 9,
     "metadata": {},
     "output_type": "execute_result"
    }
   ],
   "source": [
    "# check frequencies of ip addresses \n",
    "df.ip.value_counts(normalize=True).head(7)"
   ]
  },
  {
   "cell_type": "code",
   "execution_count": 10,
   "id": "d051fd9c",
   "metadata": {},
   "outputs": [],
   "source": [
    "# A UDF that combines both approaches and informational elements \n",
    "def value_counts_and_frequencies(s: pd.Series, dropna=True) -> pd.DataFrame:\n",
    "    return pd.merge(\n",
    "        s.value_counts(dropna=False).rename('count'),\n",
    "        s.value_counts(dropna=False, normalize=True).rename('proba'),\n",
    "        left_index=True,\n",
    "        right_index=True,\n",
    "    )"
   ]
  },
  {
   "cell_type": "code",
   "execution_count": 11,
   "id": "a22a0169",
   "metadata": {},
   "outputs": [
    {
     "data": {
      "text/html": [
       "<div><div id=e8ee0fe8-7f7c-4f05-a3b5-4a5a6c248986 style=\"display:none; background-color:#9D6CFF; color:white; width:200px; height:30px; padding-left:5px; border-radius:4px; flex-direction:row; justify-content:space-around; align-items:center;\" onmouseover=\"this.style.backgroundColor='#BA9BF8'\" onmouseout=\"this.style.backgroundColor='#9D6CFF'\" onclick=\"window.commands?.execute('create-mitosheet-from-dataframe-output');\">See Full Dataframe in Mito</div> <script> if (window.commands.hasCommand('create-mitosheet-from-dataframe-output')) document.getElementById('e8ee0fe8-7f7c-4f05-a3b5-4a5a6c248986').style.display = 'flex' </script> <table border=\"1\" class=\"dataframe\">\n",
       "  <thead>\n",
       "    <tr style=\"text-align: right;\">\n",
       "      <th></th>\n",
       "      <th>count</th>\n",
       "      <th>proba</th>\n",
       "    </tr>\n",
       "  </thead>\n",
       "  <tbody>\n",
       "    <tr>\n",
       "      <th>97.105.19.58</th>\n",
       "      <td>11999</td>\n",
       "      <td>0.858420</td>\n",
       "    </tr>\n",
       "    <tr>\n",
       "      <th>173.173.113.51</th>\n",
       "      <td>1059</td>\n",
       "      <td>0.075762</td>\n",
       "    </tr>\n",
       "    <tr>\n",
       "      <th>72.181.113.170</th>\n",
       "      <td>613</td>\n",
       "      <td>0.043855</td>\n",
       "    </tr>\n",
       "    <tr>\n",
       "      <th>72.181.105.81</th>\n",
       "      <td>246</td>\n",
       "      <td>0.017599</td>\n",
       "    </tr>\n",
       "    <tr>\n",
       "      <th>68.201.219.223</th>\n",
       "      <td>21</td>\n",
       "      <td>0.001502</td>\n",
       "    </tr>\n",
       "    <tr>\n",
       "      <th>24.26.242.9</th>\n",
       "      <td>21</td>\n",
       "      <td>0.001502</td>\n",
       "    </tr>\n",
       "    <tr>\n",
       "      <th>35.175.171.137</th>\n",
       "      <td>2</td>\n",
       "      <td>0.000143</td>\n",
       "    </tr>\n",
       "  </tbody>\n",
       "</table></div>"
      ],
      "text/plain": [
       "                count     proba\n",
       "97.105.19.58    11999  0.858420\n",
       "173.173.113.51   1059  0.075762\n",
       "72.181.113.170    613  0.043855\n",
       "72.181.105.81     246  0.017599\n",
       "68.201.219.223     21  0.001502\n",
       "24.26.242.9        21  0.001502\n",
       "35.175.171.137      2  0.000143"
      ]
     },
     "execution_count": 11,
     "metadata": {},
     "output_type": "execute_result"
    }
   ],
   "source": [
    "ip_df = value_counts_and_frequencies(df.ip)\n",
    "ip_df.head(7)"
   ]
  },
  {
   "cell_type": "code",
   "execution_count": 12,
   "id": "0f793410",
   "metadata": {},
   "outputs": [
    {
     "data": {
      "text/plain": [
       "<AxesSubplot:>"
      ]
     },
     "execution_count": 12,
     "metadata": {},
     "output_type": "execute_result"
    },
    {
     "data": {
      "image/png": "[encoded data removed]",
      "text/plain": [
       "<Figure size 360x648 with 1 Axes>"
      ]
     },
     "metadata": {
      "needs_background": "light"
     },
     "output_type": "display_data"
    }
   ],
   "source": [
    "# from here discern how many unique ip addresses there are:\n",
    "ip_df['count'].sort_values().tail(5).plot.barh(figsize=(5, 9))\n",
    "# We shall see here that the vast majority of the requests come from a single ip address."
   ]
  },
  {
   "cell_type": "markdown",
   "id": "57f2be4e",
   "metadata": {},
   "source": [
    "#### Conditional Probabilities: Probabilities using 2 discrete variables\n",
    "When looking for an unexpected status, such as authentication failure, from a known/common IP address:"
   ]
  },
  {
   "cell_type": "code",
   "execution_count": 13,
   "id": "8b879dd8",
   "metadata": {},
   "outputs": [
    {
     "data": {
      "text/html": [
       "<div><div id=ad5fc65d-33fe-446e-a781-9a2f80b216c3 style=\"display:none; background-color:#9D6CFF; color:white; width:200px; height:30px; padding-left:5px; border-radius:4px; flex-direction:row; justify-content:space-around; align-items:center;\" onmouseover=\"this.style.backgroundColor='#BA9BF8'\" onmouseout=\"this.style.backgroundColor='#9D6CFF'\" onclick=\"window.commands?.execute('create-mitosheet-from-dataframe-output');\">See Full Dataframe in Mito</div> <script> if (window.commands.hasCommand('create-mitosheet-from-dataframe-output')) document.getElementById('ad5fc65d-33fe-446e-a781-9a2f80b216c3').style.display = 'flex' </script> <table border=\"1\" class=\"dataframe\">\n",
       "  <thead>\n",
       "    <tr style=\"text-align: right;\">\n",
       "      <th></th>\n",
       "      <th>ip</th>\n",
       "      <th>status_code</th>\n",
       "      <th>proba_status_given_ip</th>\n",
       "    </tr>\n",
       "  </thead>\n",
       "  <tbody>\n",
       "    <tr>\n",
       "      <th>0</th>\n",
       "      <td>173.173.113.51</td>\n",
       "      <td>200</td>\n",
       "      <td>1.0</td>\n",
       "    </tr>\n",
       "    <tr>\n",
       "      <th>1</th>\n",
       "      <td>24.26.242.9</td>\n",
       "      <td>200</td>\n",
       "      <td>1.0</td>\n",
       "    </tr>\n",
       "    <tr>\n",
       "      <th>2</th>\n",
       "      <td>3.88.129.158</td>\n",
       "      <td>200</td>\n",
       "      <td>1.0</td>\n",
       "    </tr>\n",
       "    <tr>\n",
       "      <th>3</th>\n",
       "      <td>3.92.201.136</td>\n",
       "      <td>200</td>\n",
       "      <td>1.0</td>\n",
       "    </tr>\n",
       "    <tr>\n",
       "      <th>4</th>\n",
       "      <td>34.207.64.242</td>\n",
       "      <td>200</td>\n",
       "      <td>1.0</td>\n",
       "    </tr>\n",
       "    <tr>\n",
       "      <th>5</th>\n",
       "      <td>34.229.70.250</td>\n",
       "      <td>200</td>\n",
       "      <td>1.0</td>\n",
       "    </tr>\n",
       "    <tr>\n",
       "      <th>6</th>\n",
       "      <td>35.174.209.2</td>\n",
       "      <td>200</td>\n",
       "      <td>1.0</td>\n",
       "    </tr>\n",
       "  </tbody>\n",
       "</table></div>"
      ],
      "text/plain": [
       "               ip status_code  proba_status_given_ip\n",
       "0  173.173.113.51         200                    1.0\n",
       "1     24.26.242.9         200                    1.0\n",
       "2    3.88.129.158         200                    1.0\n",
       "3    3.92.201.136         200                    1.0\n",
       "4   34.207.64.242         200                    1.0\n",
       "5   34.229.70.250         200                    1.0\n",
       "6    35.174.209.2         200                    1.0"
      ]
     },
     "execution_count": 13,
     "metadata": {},
     "output_type": "execute_result"
    }
   ],
   "source": [
    "status_given_ip = (\n",
    "    df.groupby('ip')\n",
    "    .status_code.value_counts(normalize=True)\n",
    "    .rename('proba_status_given_ip')\n",
    "    .reset_index()\n",
    ")\n",
    "status_given_ip.head(7)"
   ]
  },
  {
   "cell_type": "markdown",
   "id": "2d23757b",
   "metadata": {},
   "source": [
    "When the probability of a status when given the ip is 100%, it becomes apparent that was the only status code encountered by the ip address. To detect anomalies here we could look for two things:\n",
    "* cases where the probability is less than 100%--meaning that multiple different status codes were encountered from the given ip address\n",
    "* Status codes other than 200. 200 is easily the most common response code. Let's start with the latter. "
   ]
  },
  {
   "cell_type": "code",
   "execution_count": 15,
   "id": "52a7dc42",
   "metadata": {},
   "outputs": [
    {
     "data": {
      "text/html": [
       "<div><div id=91137c82-8179-47b3-8607-de04552b6a35 style=\"display:none; background-color:#9D6CFF; color:white; width:200px; height:30px; padding-left:5px; border-radius:4px; flex-direction:row; justify-content:space-around; align-items:center;\" onmouseover=\"this.style.backgroundColor='#BA9BF8'\" onmouseout=\"this.style.backgroundColor='#9D6CFF'\" onclick=\"window.commands?.execute('create-mitosheet-from-dataframe-output');\">See Full Dataframe in Mito</div> <script> if (window.commands.hasCommand('create-mitosheet-from-dataframe-output')) document.getElementById('91137c82-8179-47b3-8607-de04552b6a35').style.display = 'flex' </script> <table border=\"1\" class=\"dataframe\">\n",
       "  <thead>\n",
       "    <tr style=\"text-align: right;\">\n",
       "      <th></th>\n",
       "      <th>ip</th>\n",
       "      <th>status_code</th>\n",
       "      <th>proba_status_given_ip</th>\n",
       "    </tr>\n",
       "  </thead>\n",
       "  <tbody>\n",
       "    <tr>\n",
       "      <th>18</th>\n",
       "      <td>72.181.113.170</td>\n",
       "      <td>499</td>\n",
       "      <td>0.003263</td>\n",
       "    </tr>\n",
       "    <tr>\n",
       "      <th>19</th>\n",
       "      <td>95.31.16.121</td>\n",
       "      <td>301</td>\n",
       "      <td>1.000000</td>\n",
       "    </tr>\n",
       "    <tr>\n",
       "      <th>21</th>\n",
       "      <td>97.105.15.120</td>\n",
       "      <td>301</td>\n",
       "      <td>1.000000</td>\n",
       "    </tr>\n",
       "    <tr>\n",
       "      <th>23</th>\n",
       "      <td>97.105.19.58</td>\n",
       "      <td>499</td>\n",
       "      <td>0.001167</td>\n",
       "    </tr>\n",
       "  </tbody>\n",
       "</table></div>"
      ],
      "text/plain": [
       "                ip status_code  proba_status_given_ip\n",
       "18  72.181.113.170         499               0.003263\n",
       "19    95.31.16.121         301               1.000000\n",
       "21   97.105.15.120         301               1.000000\n",
       "23    97.105.19.58         499               0.001167"
      ]
     },
     "execution_count": 15,
     "metadata": {},
     "output_type": "execute_result"
    }
   ],
   "source": [
    "status_given_ip[status_given_ip.status_code != '200']"
   ]
  },
  {
   "cell_type": "markdown",
   "id": "51c1ba7f",
   "metadata": {},
   "source": [
    "Interestingly enough, two ip addressed have exclusively encountered the 301 response, which is \n",
    "\"The HyperText Transfer Protocol (HTTP) 301 Moved Permanently redirect status response code indicates that the requested resource has been definitively moved to the URL given by the Location headers. A browser redirects to the new URL and search engines update their links to the resource.\" \n",
    "Let's dig deeper."
   ]
  },
  {
   "cell_type": "code",
   "execution_count": 16,
   "id": "9fea41e8",
   "metadata": {},
   "outputs": [
    {
     "data": {
      "text/html": [
       "<div><div id=7ef0f6f9-df3d-4a9d-8e3e-6524fda84eb7 style=\"display:none; background-color:#9D6CFF; color:white; width:200px; height:30px; padding-left:5px; border-radius:4px; flex-direction:row; justify-content:space-around; align-items:center;\" onmouseover=\"this.style.backgroundColor='#BA9BF8'\" onmouseout=\"this.style.backgroundColor='#9D6CFF'\" onclick=\"window.commands?.execute('create-mitosheet-from-dataframe-output');\">See Full Dataframe in Mito</div> <script> if (window.commands.hasCommand('create-mitosheet-from-dataframe-output')) document.getElementById('7ef0f6f9-df3d-4a9d-8e3e-6524fda84eb7').style.display = 'flex' </script> <table border=\"1\" class=\"dataframe\">\n",
       "  <thead>\n",
       "    <tr style=\"text-align: right;\">\n",
       "      <th></th>\n",
       "      <th>ip</th>\n",
       "      <th>request_method</th>\n",
       "      <th>request_path</th>\n",
       "      <th>http_version</th>\n",
       "      <th>status_code</th>\n",
       "      <th>size</th>\n",
       "      <th>user_agent</th>\n",
       "      <th>size_mb</th>\n",
       "    </tr>\n",
       "    <tr>\n",
       "      <th>timestamp</th>\n",
       "      <th></th>\n",
       "      <th></th>\n",
       "      <th></th>\n",
       "      <th></th>\n",
       "      <th></th>\n",
       "      <th></th>\n",
       "      <th></th>\n",
       "      <th></th>\n",
       "    </tr>\n",
       "  </thead>\n",
       "  <tbody>\n",
       "    <tr>\n",
       "      <th>2019-04-17 19:36:41</th>\n",
       "      <td>95.31.16.121</td>\n",
       "      <td>GET</td>\n",
       "      <td>/api/v1/sales?page=79/</td>\n",
       "      <td>HTTP/1.1</td>\n",
       "      <td>301</td>\n",
       "      <td>1005</td>\n",
       "      <td>python-requests/2.21.0</td>\n",
       "      <td>0.000958</td>\n",
       "    </tr>\n",
       "  </tbody>\n",
       "</table></div>"
      ],
      "text/plain": [
       "                               ip request_method            request_path  \\\n",
       "timestamp                                                                  \n",
       "2019-04-17 19:36:41  95.31.16.121            GET  /api/v1/sales?page=79/   \n",
       "\n",
       "                    http_version status_code  size              user_agent  \\\n",
       "timestamp                                                                    \n",
       "2019-04-17 19:36:41     HTTP/1.1         301  1005  python-requests/2.21.0   \n",
       "\n",
       "                      size_mb  \n",
       "timestamp                      \n",
       "2019-04-17 19:36:41  0.000958  "
      ]
     },
     "execution_count": 16,
     "metadata": {},
     "output_type": "execute_result"
    }
   ],
   "source": [
    "df[df.ip == '95.31.16.121']"
   ]
  },
  {
   "cell_type": "code",
   "execution_count": 17,
   "id": "3bb0a59b",
   "metadata": {},
   "outputs": [
    {
     "data": {
      "text/html": [
       "<div><div id=ce1feb9b-71bc-44c8-8fe5-8bbb8f6dee9a style=\"display:none; background-color:#9D6CFF; color:white; width:200px; height:30px; padding-left:5px; border-radius:4px; flex-direction:row; justify-content:space-around; align-items:center;\" onmouseover=\"this.style.backgroundColor='#BA9BF8'\" onmouseout=\"this.style.backgroundColor='#9D6CFF'\" onclick=\"window.commands?.execute('create-mitosheet-from-dataframe-output');\">See Full Dataframe in Mito</div> <script> if (window.commands.hasCommand('create-mitosheet-from-dataframe-output')) document.getElementById('ce1feb9b-71bc-44c8-8fe5-8bbb8f6dee9a').style.display = 'flex' </script> <table border=\"1\" class=\"dataframe\">\n",
       "  <thead>\n",
       "    <tr style=\"text-align: right;\">\n",
       "      <th></th>\n",
       "      <th>ip</th>\n",
       "      <th>request_method</th>\n",
       "      <th>request_path</th>\n",
       "      <th>http_version</th>\n",
       "      <th>status_code</th>\n",
       "      <th>size</th>\n",
       "      <th>user_agent</th>\n",
       "      <th>size_mb</th>\n",
       "    </tr>\n",
       "    <tr>\n",
       "      <th>timestamp</th>\n",
       "      <th></th>\n",
       "      <th></th>\n",
       "      <th></th>\n",
       "      <th></th>\n",
       "      <th></th>\n",
       "      <th></th>\n",
       "      <th></th>\n",
       "      <th></th>\n",
       "    </tr>\n",
       "  </thead>\n",
       "  <tbody>\n",
       "    <tr>\n",
       "      <th>2019-04-18 19:42:41</th>\n",
       "      <td>97.105.15.120</td>\n",
       "      <td>GET</td>\n",
       "      <td>/api/v1/sales?page=79/</td>\n",
       "      <td>HTTP/1.1</td>\n",
       "      <td>301</td>\n",
       "      <td>2560</td>\n",
       "      <td>python-requests/2.21.0</td>\n",
       "      <td>0.002441</td>\n",
       "    </tr>\n",
       "  </tbody>\n",
       "</table></div>"
      ],
      "text/plain": [
       "                                ip request_method            request_path  \\\n",
       "timestamp                                                                   \n",
       "2019-04-18 19:42:41  97.105.15.120            GET  /api/v1/sales?page=79/   \n",
       "\n",
       "                    http_version status_code  size              user_agent  \\\n",
       "timestamp                                                                    \n",
       "2019-04-18 19:42:41     HTTP/1.1         301  2560  python-requests/2.21.0   \n",
       "\n",
       "                      size_mb  \n",
       "timestamp                      \n",
       "2019-04-18 19:42:41  0.002441  "
      ]
     },
     "execution_count": 17,
     "metadata": {},
     "output_type": "execute_result"
    }
   ],
   "source": [
    "df[df.ip == '97.105.15.120']"
   ]
  },
  {
   "cell_type": "code",
   "execution_count": 18,
   "id": "9b146ff8",
   "metadata": {},
   "outputs": [
    {
     "data": {
      "text/html": [
       "<div><div id=6aec421e-e368-4d6e-ac25-52b76becc5bb style=\"display:none; background-color:#9D6CFF; color:white; width:200px; height:30px; padding-left:5px; border-radius:4px; flex-direction:row; justify-content:space-around; align-items:center;\" onmouseover=\"this.style.backgroundColor='#BA9BF8'\" onmouseout=\"this.style.backgroundColor='#9D6CFF'\" onclick=\"window.commands?.execute('create-mitosheet-from-dataframe-output');\">See Full Dataframe in Mito</div> <script> if (window.commands.hasCommand('create-mitosheet-from-dataframe-output')) document.getElementById('6aec421e-e368-4d6e-ac25-52b76becc5bb').style.display = 'flex' </script> <table border=\"1\" class=\"dataframe\">\n",
       "  <thead>\n",
       "    <tr style=\"text-align: right;\">\n",
       "      <th></th>\n",
       "      <th>ip</th>\n",
       "      <th>status_code</th>\n",
       "      <th>proba_status_given_ip</th>\n",
       "    </tr>\n",
       "  </thead>\n",
       "  <tbody>\n",
       "    <tr>\n",
       "      <th>17</th>\n",
       "      <td>72.181.113.170</td>\n",
       "      <td>200</td>\n",
       "      <td>0.996737</td>\n",
       "    </tr>\n",
       "    <tr>\n",
       "      <th>18</th>\n",
       "      <td>72.181.113.170</td>\n",
       "      <td>499</td>\n",
       "      <td>0.003263</td>\n",
       "    </tr>\n",
       "    <tr>\n",
       "      <th>22</th>\n",
       "      <td>97.105.19.58</td>\n",
       "      <td>200</td>\n",
       "      <td>0.998833</td>\n",
       "    </tr>\n",
       "    <tr>\n",
       "      <th>23</th>\n",
       "      <td>97.105.19.58</td>\n",
       "      <td>499</td>\n",
       "      <td>0.001167</td>\n",
       "    </tr>\n",
       "  </tbody>\n",
       "</table></div>"
      ],
      "text/plain": [
       "                ip status_code  proba_status_given_ip\n",
       "17  72.181.113.170         200               0.996737\n",
       "18  72.181.113.170         499               0.003263\n",
       "22    97.105.19.58         200               0.998833\n",
       "23    97.105.19.58         499               0.001167"
      ]
     },
     "execution_count": 18,
     "metadata": {},
     "output_type": "execute_result"
    }
   ],
   "source": [
    "# both were single instances, rather than repeated. \n",
    "# now for the former approach, less than 100% probability for a status code\n",
    "status_given_ip[status_given_ip.proba_status_given_ip < 1]"
   ]
  },
  {
   "cell_type": "markdown",
   "id": "8c2d395a",
   "metadata": {},
   "source": [
    "Here we have uncovered a couple of 499 statuses from ip addresses which otherwise seem to process normal requests.\n",
    "***\n",
    "*** \n",
    "now to step away and explore on my own. "
   ]
  },
  {
   "cell_type": "code",
   "execution_count": null,
   "id": "32d5369a",
   "metadata": {},
   "outputs": [],
   "source": []
  }
 ],
 "metadata": {
  "kernelspec": {
   "display_name": "Python 3 (ipykernel)",
   "language": "python",
   "name": "python3"
  },
  "language_info": {
   "codemirror_mode": {
    "name": "ipython",
    "version": 3
   },
   "file_extension": ".py",
   "mimetype": "text/x-python",
   "name": "python",
   "nbconvert_exporter": "python",
   "pygments_lexer": "ipython3",
   "version": "3.9.7"
  }
 },
 "nbformat": 4,
 "nbformat_minor": 5
}
